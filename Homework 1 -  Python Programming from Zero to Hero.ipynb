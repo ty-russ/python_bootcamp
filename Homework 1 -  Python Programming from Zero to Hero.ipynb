{
 "cells": [
  {
   "cell_type": "markdown",
   "id": "0f9cfce2",
   "metadata": {},
   "source": [
    "### Notice:\n",
    "\n",
    "1. Mechanical correctness of your python codes: your codes must be accurate and no errors\n",
    "2. Clarity of jupyter notebook and organization of outputs:\n",
    "\n",
    "- The python codes you write must be accompanied with \"comments\" using # or markdown if necessary\n",
    "- All outputs must be visible in your jupyter notebook. If necessary, explain the outputs using markdown.\n",
    "\n",
    " - A **grade of XF** can result from a breach of academic honesty. The F indicates failure in the course; the X indicates the reason is an Honor Pledge violation.” (http://www.k-state.edu/provost/resources/teaching/course.htm (Links to an external site.)) (See Academic Dishonesty below). \n",
    "- **Unauthorized collaboration** (including but not limited to collaborating with other students on lab, HW, the midterm exam, and the final project is forbidden) \n",
    "- **Unauthorized aid** (including but not limited to sharing your codes with other students, receiving codes from another)\n",
    "- Plagiarism (including but not limited to copying words of another (on the Internet or articles) as your own)\n",
    "\n",
    "**K-State Honor Code**\n",
    "\n",
    "> **\"On my honor, as a student, I have neither given nor received unauthorized aid on this academic work.\"**\n",
    "\n",
    "**Your Name:** "
   ]
  },
  {
   "cell_type": "code",
   "execution_count": 1,
   "id": "dcc1c5f2",
   "metadata": {},
   "outputs": [
    {
     "name": "stdin",
     "output_type": "stream",
     "text": [
      "Please sign the E-Signature (full name): Tirus Wagacha\n"
     ]
    },
    {
     "data": {
      "text/plain": [
       "'Tirus Wagacha'"
      ]
     },
     "execution_count": 1,
     "metadata": {},
     "output_type": "execute_result"
    }
   ],
   "source": [
    "# run the following syntax and sign with your full name\n",
    "input(\"Please sign the E-Signature (full name):\")"
   ]
  },
  {
   "cell_type": "markdown",
   "id": "1ddb081b",
   "metadata": {},
   "source": [
    "# Homework 1: Python Programming from Zero to Hero\n",
    "\n",
    "This homework has 34 questions covering what we have learned in the first two weeks. The total points of this assignment are 70 points. "
   ]
  },
  {
   "cell_type": "markdown",
   "id": "7990ad73",
   "metadata": {},
   "source": [
    "**Q1:** Assign 7 to variable x and 3 to y. What is x to the power of y? What is the result? (2 points)"
   ]
  },
  {
   "cell_type": "code",
   "execution_count": 3,
   "id": "970430df",
   "metadata": {},
   "outputs": [
    {
     "data": {
      "text/plain": [
       "343"
      ]
     },
     "execution_count": 3,
     "metadata": {},
     "output_type": "execute_result"
    }
   ],
   "source": [
    "# set the varaibles\n",
    "x = 7\n",
    "y = 3\n",
    "\n",
    "x**y"
   ]
  },
  {
   "cell_type": "markdown",
   "id": "5d94f571",
   "metadata": {},
   "source": [
    "**Q2:** Assign \"Business\" to variable *word* and print the letter \"i\" using its index. (2 points)"
   ]
  },
  {
   "cell_type": "code",
   "execution_count": 4,
   "id": "38e6e0c0",
   "metadata": {},
   "outputs": [
    {
     "data": {
      "text/plain": [
       "'i'"
      ]
     },
     "execution_count": 4,
     "metadata": {},
     "output_type": "execute_result"
    }
   ],
   "source": [
    "word = \"Business\"\n",
    "\n",
    "word[3]"
   ]
  },
  {
   "cell_type": "markdown",
   "id": "902142bf",
   "metadata": {},
   "source": [
    "**Q3:** What is the data type of *word* (the above variable)? (1 point)"
   ]
  },
  {
   "cell_type": "code",
   "execution_count": 5,
   "id": "5a1b2b5d",
   "metadata": {},
   "outputs": [
    {
     "name": "stdout",
     "output_type": "stream",
     "text": [
      "<class 'str'>\n"
     ]
    }
   ],
   "source": [
    "print(type(word))"
   ]
  },
  {
   "cell_type": "markdown",
   "id": "6ddc50a8",
   "metadata": {},
   "source": [
    "**Q4:** Split this string (5 points)\n",
    "\n",
    "welcome = \"Welcome to MIS670.\"\n",
    "\n",
    "into a list.\n",
    "\n",
    "** hint: use split(). We do not have examples of this function, but I expect you to know how to Google a new function and use it in the future."
   ]
  },
  {
   "cell_type": "code",
   "execution_count": 7,
   "id": "bf118b9c",
   "metadata": {},
   "outputs": [
    {
     "name": "stdout",
     "output_type": "stream",
     "text": [
      "['Welcome', 'to', 'MIS670.']\n"
     ]
    }
   ],
   "source": [
    "welcome = \"Welcome to MIS670.\"\n",
    "w = welcome.split(\" \")\n",
    "print(w)"
   ]
  },
  {
   "cell_type": "markdown",
   "id": "7f11e64d",
   "metadata": {},
   "source": [
    "**Q5:** Given the following variables (8 points)\n",
    "\n",
    "- welcome = \"Welcome to MIS670.\"\n",
    "- classT = 75\n",
    "- lectures = 25\n",
    "- labs = 6\n",
    "- HWs = 7\n",
    "- exam = 2\n",
    "- final_project = \"By email, students must inform the instructor of their project topic on October 28th. 2024  (Monday).\"\n",
    "- policy = \"No late submissions and make-up exams are accepted.\"\n",
    "- deadline1 = \"Sep. 2nd (Mon.), 11:59 PM CT\"\n",
    "\n",
    " Use .format() or print(f'string) to print the following string: \n",
    "\n",
    "*Welcome to MIS670.* This course focuses on text analytics, including *25* lectures, and each lecture is *75* minutes.\n",
    "There are *7* homework assignments, *6* practice labs, and *2* exams -- Mid-term and final exams.\n",
    "The final project is required for students targeting an \"A\" for the final grades. *By email, students must inform the instructor of their project topic on October 28th. 2024 (Monday).*\n",
    "The policy of this course is \"*No late submissions and make-up exams are accepted.*\"\n",
    "The deadline for this homework (Homework 1) is *Sep. 2nd (Mon.), 11:59 PM CT*.\n",
    "\n",
    "** hint: replace the italic words with the relative variable names"
   ]
  },
  {
   "cell_type": "code",
   "execution_count": 8,
   "id": "e8ef8ecb",
   "metadata": {},
   "outputs": [
    {
     "name": "stdout",
     "output_type": "stream",
     "text": [
      "Welcome to MIS670. This course focuses on text analytics, including 25 lectures, and each lecture is 75 minutes\n",
      "There are 7 homework assignments, 6 practice labs, and 2 exams -- Mid-term and final exams.\n",
      "The final project is required for students targeting an 'A' for the final grades.\n",
      "By email, students must inform the instructor of their project topic on October 28th. 2024  (Monday).\n",
      "The policy of this course is 'No late submissions and make-up exams are accepted.'\n",
      "The deadline for this homework (Homework 1) is Sep. 2nd (Mon.), 11:59 PM CT.\n"
     ]
    }
   ],
   "source": [
    "# set the variables (2 points)\n",
    "welcome = \"Welcome to MIS670.\"\n",
    "classT = 75\n",
    "lectures = 25\n",
    "labs = 6\n",
    "HWs = 7\n",
    "exam = 2\n",
    "final_project = \"By email, students must inform the instructor of their project topic on October 28th. 2024  (Monday).\"\n",
    "policy = \"No late submissions and make-up exams are accepted.\"\n",
    "deadline1 = \"Sep. 2nd (Mon.), 11:59 PM CT\"\n",
    "# print the string (6 points)\n",
    "print(f\"{welcome} This course focuses on text analytics, including {lectures} lectures, and each lecture is {classT} minutes\")\n",
    "print(f\"There are {HWs} homework assignments, {labs} practice labs, and {exam} exams -- Mid-term and final exams.\")\n",
    "print(\"The final project is required for students targeting an 'A' for the final grades.\")\n",
    "print(f\"{final_project}\")\n",
    "print(f\"The policy of this course is '{policy}'\")\n",
    "print(f\"The deadline for this homework (Homework 1) is {deadline1}.\")\n"
   ]
  },
  {
   "cell_type": "markdown",
   "id": "a6fdbe75",
   "metadata": {},
   "source": [
    "**Q6:** What is 38 divided by 7? Round the values to 3 decimals. (2 points)"
   ]
  },
  {
   "cell_type": "code",
   "execution_count": 10,
   "id": "a16b7708",
   "metadata": {},
   "outputs": [
    {
     "name": "stdout",
     "output_type": "stream",
     "text": [
      "The result is 5.429\n"
     ]
    }
   ],
   "source": [
    "result = 38/7\n",
    "\n",
    "print(f\"The result is {result:{1}.{4}}\")"
   ]
  },
  {
   "cell_type": "markdown",
   "id": "c6838865",
   "metadata": {},
   "source": [
    "**Q7:** Grab \"Hello\" from the list (4 points）"
   ]
  },
  {
   "cell_type": "code",
   "execution_count": 27,
   "id": "98cdb9f4",
   "metadata": {},
   "outputs": [],
   "source": [
    "ls1 =  [\"Apple\",2,[\"Orange\",4],[5,[100,3,['Hello']],23,11],(33,44)]"
   ]
  },
  {
   "cell_type": "code",
   "execution_count": 13,
   "id": "cbfcb5c4",
   "metadata": {},
   "outputs": [
    {
     "data": {
      "text/plain": [
       "['Hello']"
      ]
     },
     "execution_count": 13,
     "metadata": {},
     "output_type": "execute_result"
    }
   ],
   "source": [
    "ls1[3][1][2]"
   ]
  },
  {
   "cell_type": "markdown",
   "id": "0cea4f4b",
   "metadata": {},
   "source": [
    "**Q8:** What is the data type of (33,44) from the above list? (1 point)"
   ]
  },
  {
   "cell_type": "code",
   "execution_count": 15,
   "id": "c8ef79c7",
   "metadata": {},
   "outputs": [
    {
     "name": "stdout",
     "output_type": "stream",
     "text": [
      "<class 'tuple'>\n"
     ]
    }
   ],
   "source": [
    "print(type(ls1[-1]))"
   ]
  },
  {
   "cell_type": "markdown",
   "id": "1f17dc5f",
   "metadata": {},
   "source": [
    "**Q9:** Print all the keys from variable \"course_info\" (2 points)"
   ]
  },
  {
   "cell_type": "code",
   "execution_count": 17,
   "id": "a813ff34",
   "metadata": {},
   "outputs": [],
   "source": [
    "course_info = {\"course number\": \"MIS670\", \"lecture time\": 75, \"assignments\":7}"
   ]
  },
  {
   "cell_type": "code",
   "execution_count": 18,
   "id": "46c1c37c",
   "metadata": {},
   "outputs": [
    {
     "name": "stdout",
     "output_type": "stream",
     "text": [
      "dict_keys(['course number', 'lecture time', 'assignments'])\n"
     ]
    }
   ],
   "source": [
    "print(course_info.keys())"
   ]
  },
  {
   "cell_type": "markdown",
   "id": "fcadb8c2",
   "metadata": {},
   "source": [
    "**Q10:** What is the data type of course_info? (1 point)"
   ]
  },
  {
   "cell_type": "code",
   "execution_count": 19,
   "id": "482b8dcf",
   "metadata": {},
   "outputs": [
    {
     "name": "stdout",
     "output_type": "stream",
     "text": [
      "<class 'dict'>\n"
     ]
    }
   ],
   "source": [
    "print(type(course_info))"
   ]
  },
  {
   "cell_type": "markdown",
   "id": "c0cc052c",
   "metadata": {},
   "source": [
    "**Q11:** Add {\"final exam\": 1} to ls1 (in Q7) (2 points)"
   ]
  },
  {
   "cell_type": "code",
   "execution_count": 28,
   "id": "96a3648b",
   "metadata": {},
   "outputs": [
    {
     "name": "stdout",
     "output_type": "stream",
     "text": [
      "['Apple', 2, ['Orange', 4], [5, [100, 3, ['Hello']], 23, 11], (33, 44), {'final exam': 1}]\n"
     ]
    }
   ],
   "source": [
    "ls1 = list(ls1)\n",
    "ls1.append({\"final exam\": 1})\n",
    "print(ls1)"
   ]
  },
  {
   "cell_type": "markdown",
   "id": "82764c2e",
   "metadata": {},
   "source": [
    "**Q12:** Remove {\"final exam\": 1} from ls1 (2 points)"
   ]
  },
  {
   "cell_type": "code",
   "execution_count": 31,
   "id": "7ab3b34d",
   "metadata": {},
   "outputs": [
    {
     "data": {
      "text/plain": [
       "['Apple', 2, ['Orange', 4], [5, [100, 3, ['Hello']], 23, 11], (33, 44)]"
      ]
     },
     "execution_count": 31,
     "metadata": {},
     "output_type": "execute_result"
    }
   ],
   "source": [
    "ls1.pop()\n",
    "ls1"
   ]
  },
  {
   "cell_type": "markdown",
   "id": "cfe4aa9b",
   "metadata": {},
   "source": [
    "**Q13:** Sort the values of ls2 (2 points)"
   ]
  },
  {
   "cell_type": "code",
   "execution_count": 32,
   "id": "e8ec8abb",
   "metadata": {},
   "outputs": [],
   "source": [
    "ls2 = [343,5566,235,865443,245,246,533,765,234,75,24,5,12]"
   ]
  },
  {
   "cell_type": "code",
   "execution_count": 34,
   "id": "fe6bae96",
   "metadata": {},
   "outputs": [
    {
     "name": "stdout",
     "output_type": "stream",
     "text": [
      "[5, 12, 24, 75, 234, 235, 245, 246, 343, 533, 765, 5566, 865443]\n"
     ]
    }
   ],
   "source": [
    "ls2.sort()\n",
    "print(ls2)"
   ]
  },
  {
   "cell_type": "markdown",
   "id": "70c65285",
   "metadata": {},
   "source": [
    "**Q14:** Print the elements of ls1 one by one. (3 points)\n",
    "    \n",
    "** hint: use for loop"
   ]
  },
  {
   "cell_type": "code",
   "execution_count": 35,
   "id": "cd9143d3",
   "metadata": {},
   "outputs": [
    {
     "name": "stdout",
     "output_type": "stream",
     "text": [
      "Apple\n",
      "2\n",
      "['Orange', 4]\n",
      "[5, [100, 3, ['Hello']], 23, 11]\n",
      "(33, 44)\n"
     ]
    }
   ],
   "source": [
    "for i in ls1:\n",
    "    print(i)"
   ]
  },
  {
   "cell_type": "markdown",
   "id": "5b73ea5f",
   "metadata": {},
   "source": [
    "**Q15:** Get all the kitchen appliances containing letter `\"d\"`. (5 points)"
   ]
  },
  {
   "cell_type": "code",
   "execution_count": 36,
   "id": "4d1e204e",
   "metadata": {},
   "outputs": [],
   "source": [
    "kitchen = [\"Food processor\",\"Microwave\", \"Dishwasher\", \"Hand blender\", \"Pressure cooker\",\n",
    "           \"Mixer Grinder\", \"Electric Kettle\",\"Rice cooker\"]"
   ]
  },
  {
   "cell_type": "code",
   "execution_count": 46,
   "id": "dfcb6283",
   "metadata": {},
   "outputs": [
    {
     "name": "stdout",
     "output_type": "stream",
     "text": [
      "['Food processor', 'Hand blender', 'Mixer Grinder']\n"
     ]
    }
   ],
   "source": [
    "d = []\n",
    "for app in kitchen:\n",
    "     if \"d\" in app:\n",
    "         d.append(app)\n",
    "\n",
    "print(d)"
   ]
  },
  {
   "cell_type": "markdown",
   "id": "9943ab41",
   "metadata": {},
   "source": [
    "**Q16:** Add {\"final exam\": 1} to course_info (in Q9) (2 points)"
   ]
  },
  {
   "cell_type": "code",
   "execution_count": 50,
   "id": "ed959566",
   "metadata": {},
   "outputs": [
    {
     "name": "stdout",
     "output_type": "stream",
     "text": [
      "{'course number': 'MIS670', 'lecture time': 75, 'assignments': 7, 'final exam': 1}\n"
     ]
    }
   ],
   "source": [
    "course_info[\"final exam\"] = 1\n",
    "print(course_info)"
   ]
  },
  {
   "cell_type": "markdown",
   "id": "2b978971",
   "metadata": {},
   "source": [
    "**Q17:** Remove \"lecture time\" : 75 from course_info (2 points)"
   ]
  },
  {
   "cell_type": "code",
   "execution_count": 51,
   "id": "41723a58",
   "metadata": {},
   "outputs": [
    {
     "data": {
      "text/plain": [
       "75"
      ]
     },
     "execution_count": 51,
     "metadata": {},
     "output_type": "execute_result"
    }
   ],
   "source": [
    "course_info.pop('lecture time')"
   ]
  },
  {
   "cell_type": "markdown",
   "id": "b394f1e9",
   "metadata": {},
   "source": [
    "**Q18:** Add \"lecture time\" to course_tuple (3 points)"
   ]
  },
  {
   "cell_type": "code",
   "execution_count": 52,
   "id": "8d975c7c",
   "metadata": {},
   "outputs": [],
   "source": [
    "course_tuple = ('course number','MIS670', 'assignments', 'practice labs', 3, 'finale exam')"
   ]
  },
  {
   "cell_type": "code",
   "execution_count": 54,
   "id": "ea8326a5",
   "metadata": {},
   "outputs": [
    {
     "name": "stdout",
     "output_type": "stream",
     "text": [
      "('course number', 'MIS670', 'assignments', 'practice labs', 3, 'finale exam', 'lecture time')\n"
     ]
    }
   ],
   "source": [
    "# convert to list since tuples are immutable\n",
    "course_tuple = list(course_tuple)\n",
    "# add value\n",
    "course_tuple.append('lecture time')\n",
    "#convert to back tuple\n",
    "course_tuple = tuple(course_tuple)\n",
    "print(course_tuple)"
   ]
  },
  {
   "cell_type": "markdown",
   "id": "685f2228",
   "metadata": {},
   "source": [
    "**Q19:** What is the data type of k (1 point)\n",
    "\n",
    "k = {\"Food processor\",\"Microwave\", \"Dishwasher\", \"Hand blender\", \"Pressure cooker\",\n",
    "           \"Mixer Grinder\", \"Electric Kettle\",\"Rice cooker\"}"
   ]
  },
  {
   "cell_type": "code",
   "execution_count": 56,
   "id": "df994b45",
   "metadata": {},
   "outputs": [
    {
     "name": "stdout",
     "output_type": "stream",
     "text": [
      "<class 'set'>\n"
     ]
    }
   ],
   "source": [
    "k = {\"Food processor\",\"Microwave\", \"Dishwasher\", \"Hand blender\", \"Pressure cooker\",\n",
    "           \"Mixer Grinder\", \"Electric Kettle\",\"Rice cooker\"}\n",
    "\n",
    "print(type(k))"
   ]
  },
  {
   "cell_type": "markdown",
   "id": "141d4807",
   "metadata": {},
   "source": [
    "**Q20:** Add \"Air fryer\" to k (2 points)"
   ]
  },
  {
   "cell_type": "code",
   "execution_count": 58,
   "id": "ced2afea",
   "metadata": {},
   "outputs": [
    {
     "name": "stdout",
     "output_type": "stream",
     "text": [
      "{'Food processor', 'Dishwasher', 'Electric Kettle', 'Pressure cooker', 'Rice cooker', 'Mixer Grinder', 'Hand blender', 'Air fryer', 'Microwave'}\n"
     ]
    }
   ],
   "source": [
    "k.add(\"Air fryer\")\n",
    "print(k)"
   ]
  },
  {
   "cell_type": "markdown",
   "id": "79aa02c5",
   "metadata": {},
   "source": [
    "**Q21:** Write brief descriptions of the Python data types we have learned. (Use markdown lanaguage) (12 points)"
   ]
  },
  {
   "cell_type": "markdown",
   "id": "1870afae",
   "metadata": {},
   "source": [
    "(double click this cell and write down your answers)\n",
    "### Data Types\n",
    "- Numbers\n",
    "   - Intergers : Whole Numbers\n",
    "   - Floating Point : Numbers with decimals\n",
    "- Strings: a sequence of characters enclosed by quotes\n",
    "- The four fundamental data types of Python\n",
    "   - **List** : an ordered,mutable sequence of objects\n",
    "   - **Tuple** : ordered ,immutable sequence of objects\n",
    "   - **Set** : unordered,mutable collection of unique objects\n",
    "   - **Dictionary** : A collection of key-value pairs\n",
    "- Boolean: logical value , True or False"
   ]
  },
  {
   "cell_type": "markdown",
   "id": "565fbcc4",
   "metadata": {},
   "source": [
    "**Q22:** Fizz & Buzz (8 points)\n",
    "\n",
    "Use `for loop` and `if, elif, else` to prints the integers from 1 to 50. For multiples of 3 print \"Fizz\" instead of the number, and for the multiples of 5 print \"Buzz\". For numbers which are multiples of both 3 and 5 print \"FizzBuzz\".\n",
    "\n",
    "** hint: the range of integers from 1 to 50 is range(1, 51), 51 is not included. "
   ]
  },
  {
   "cell_type": "code",
   "execution_count": 61,
   "id": "d74570cd",
   "metadata": {},
   "outputs": [
    {
     "name": "stdout",
     "output_type": "stream",
     "text": [
      "1\n",
      "2\n",
      "Fizz\n",
      "4\n",
      "Buzz\n",
      "Fizz\n",
      "7\n",
      "8\n",
      "Fizz\n",
      "Buzz\n",
      "11\n",
      "Fizz\n",
      "13\n",
      "14\n",
      "FizzBuzz\n",
      "16\n",
      "17\n",
      "Fizz\n",
      "19\n",
      "Buzz\n",
      "Fizz\n",
      "22\n",
      "23\n",
      "Fizz\n",
      "Buzz\n",
      "26\n",
      "Fizz\n",
      "28\n",
      "29\n",
      "FizzBuzz\n",
      "31\n",
      "32\n",
      "Fizz\n",
      "34\n",
      "Buzz\n",
      "Fizz\n",
      "37\n",
      "38\n",
      "Fizz\n",
      "Buzz\n",
      "41\n",
      "Fizz\n",
      "43\n",
      "44\n",
      "FizzBuzz\n",
      "46\n",
      "47\n",
      "Fizz\n",
      "49\n",
      "Buzz\n"
     ]
    }
   ],
   "source": []
  },
  {
   "cell_type": "markdown",
   "id": "4d06c23a",
   "metadata": {},
   "source": [
    "**Q23:** grab all the names having at least 4 letters from the given list (2.5 points)"
   ]
  },
  {
   "cell_type": "code",
   "execution_count": 1,
   "id": "18d437b1",
   "metadata": {},
   "outputs": [
    {
     "data": {
      "text/plain": [
       "['Alice', 'Charlie', 'David', 'Frank', 'Grace', 'Hannah']"
      ]
     },
     "execution_count": 1,
     "metadata": {},
     "output_type": "execute_result"
    }
   ],
   "source": [
    "names = [\"Alice\", \"Bob\", \"Charlie\", \"David\", \"Eve\", \"Frank\", \"Grace\", \"Hannah\"]\n",
    "\n"
   ]
  },
  {
   "cell_type": "markdown",
   "id": "b9ffa5af",
   "metadata": {},
   "source": [
    "**Q24:** Stop the loop when see \"Yellow\" (not included) (5 points)"
   ]
  },
  {
   "cell_type": "code",
   "execution_count": 47,
   "id": "65bc6661",
   "metadata": {},
   "outputs": [],
   "source": [
    "colors = [\"White\",\"Blue\",\"Red\",\"Green\",\"Yellow\",\"Black\",\"Brown\"]"
   ]
  },
  {
   "cell_type": "code",
   "execution_count": 2,
   "id": "1370bc45",
   "metadata": {},
   "outputs": [
    {
     "name": "stdout",
     "output_type": "stream",
     "text": [
      "White\n",
      "Blue\n",
      "Red\n",
      "Green\n"
     ]
    }
   ],
   "source": []
  },
  {
   "cell_type": "markdown",
   "id": "9a7f7e3f",
   "metadata": {},
   "source": [
    "**Q25:** i starts at 0, adding 1 to i each time and print i as long as i is less than 6 (5 points)\n",
    "\n",
    "use while loop"
   ]
  },
  {
   "cell_type": "code",
   "execution_count": 49,
   "id": "4569d6b3",
   "metadata": {},
   "outputs": [
    {
     "name": "stdout",
     "output_type": "stream",
     "text": [
      "0\n",
      "1\n",
      "2\n",
      "3\n",
      "4\n",
      "5\n"
     ]
    }
   ],
   "source": []
  },
  {
   "cell_type": "markdown",
   "id": "ce729fae",
   "metadata": {},
   "source": [
    "**Q26:** print the numbers from 4 to 40 (included) that are multiples of 4 (3 points)\n",
    "\n",
    "** hint: use range() and for loop"
   ]
  },
  {
   "cell_type": "code",
   "execution_count": 51,
   "id": "2d84c5b9",
   "metadata": {},
   "outputs": [
    {
     "name": "stdout",
     "output_type": "stream",
     "text": [
      "4\n",
      "8\n",
      "12\n",
      "16\n",
      "20\n",
      "24\n",
      "28\n",
      "32\n",
      "36\n",
      "40\n"
     ]
    }
   ],
   "source": []
  },
  {
   "cell_type": "markdown",
   "id": "2e2ba5df",
   "metadata": {},
   "source": [
    "**Q27:** Based on the given table, create 3 dictionaries (Car1, Car2, Car3), then create 1 dictionary (Cars) that will contain the other 3 dictionaries: (5 points)\n",
    "\n",
    "|Cars|Brands|Made year|Price|\n",
    "|:---|:-----|:--------|:----|\n",
    "|Car1|BMW|2021|45000|\n",
    "|Car2|Ford|2022|30000|\n",
    "|Car3|Toyota|2022|27000|"
   ]
  },
  {
   "cell_type": "code",
   "execution_count": 1,
   "id": "61dd6878",
   "metadata": {},
   "outputs": [
    {
     "name": "stdout",
     "output_type": "stream",
     "text": [
      "Car1: {'Brands': 'BMW', 'Made_year': 2021, 'Price': 45000}, Car2: {'Brands': 'Ford', 'Made_year': 2022, 'Price': 30000}, Car3:{'Brands': 'Toyota', 'Made_year': 2022, 'Price': 27000}\n",
      "---------------------------------------\n",
      "Cars: {'Brands': 'Toyota', 'Made_year': 2022, 'Price': 27000}\n"
     ]
    }
   ],
   "source": []
  },
  {
   "cell_type": "markdown",
   "id": "72cf5479",
   "metadata": {},
   "source": [
    "**Q28:** Print all the numbers from the given a list that satisfy the following conditions: (5 points)\n",
    "\n",
    "- The number must be divisible by 3\n",
    "- If the number is greater than 100, then skip it and move to the next number\n",
    "- If the number is greater than 200, then stop the loop"
   ]
  },
  {
   "cell_type": "code",
   "execution_count": 55,
   "id": "c9c8dff8",
   "metadata": {},
   "outputs": [],
   "source": [
    "numbers = [1,2,3,5,7,9,12,43,512,250,80,92,45,245,233,254]"
   ]
  },
  {
   "cell_type": "code",
   "execution_count": 56,
   "id": "88e9816d",
   "metadata": {},
   "outputs": [
    {
     "name": "stdout",
     "output_type": "stream",
     "text": [
      "3\n",
      "9\n",
      "12\n"
     ]
    }
   ],
   "source": []
  },
  {
   "cell_type": "markdown",
   "id": "78e956fa",
   "metadata": {},
   "source": [
    "**Q29:** Get all the prime numbers from 15 to 55 (included). (5 points)\n",
    "\n",
    "** hint: Prime numbers are whole numbers greater than 1 and cannot be exactly divided by any whole number other than itself and 1 (e.g., 2, 3, 5, 7, 11). \n",
    "\n",
    "According to the definition, the first step is to check the number, does it greater than 1? Use `if`. If the number is greater than 1, stop the loop when the number can be divided by other numbers from 2 to this number. \n",
    "\n",
    "For example, 15 is greater than 1. From 2 to 15, 15 % 3 == 0; 15 % 5 == 0. (3 and 5 are from the range of 2 to 15). So 15 is not a prime number, and we need to stop the loop (use `break`) and try the next whole number, 16. Then `else` are the prime numbers.  \n",
    "\n",
    "** hint: You can create a nested loop (a loop inside of a loop) to get the values. Be careful with the spaces. "
   ]
  },
  {
   "cell_type": "code",
   "execution_count": 1,
   "id": "3bf37132",
   "metadata": {},
   "outputs": [
    {
     "name": "stdout",
     "output_type": "stream",
     "text": [
      "17\n",
      "19\n",
      "23\n",
      "29\n",
      "31\n",
      "37\n",
      "41\n",
      "43\n",
      "47\n",
      "53\n"
     ]
    }
   ],
   "source": []
  },
  {
   "cell_type": "markdown",
   "id": "b6ce5439",
   "metadata": {},
   "source": [
    "**Q30:** Use list comprehension to have a list of all numbers between 1 and 40 that are divisible by 3. (One line code) (3 points)"
   ]
  },
  {
   "cell_type": "code",
   "execution_count": 44,
   "id": "2e844b29",
   "metadata": {},
   "outputs": [
    {
     "data": {
      "text/plain": [
       "[3, 6, 9, 12, 15, 18, 21, 24, 27, 30, 33, 36, 39]"
      ]
     },
     "execution_count": 44,
     "metadata": {},
     "output_type": "execute_result"
    }
   ],
   "source": []
  },
  {
   "cell_type": "markdown",
   "id": "1eedc02e",
   "metadata": {},
   "source": [
    "**Q31:** Replace all `\"a\"`s with `\"e'`s in the string \"Text analytics\". (3 points)"
   ]
  },
  {
   "cell_type": "code",
   "execution_count": 21,
   "id": "7d38023e",
   "metadata": {},
   "outputs": [
    {
     "name": "stdout",
     "output_type": "stream",
     "text": [
      "Text enelytics\n"
     ]
    }
   ],
   "source": []
  },
  {
   "cell_type": "markdown",
   "id": "38c90f71",
   "metadata": {},
   "source": [
    "**Q32:** Please use online resources to check the related function for counting the frequency of letter `\"e\"` in the following sentence. (3 points)\n",
    "\n",
    "*Text analytics is the process of extracting meaningful information and insights from textual data using algorithms and computational techniques, often involving natural language processing, pattern recognition, and statistical analysis.*"
   ]
  },
  {
   "cell_type": "code",
   "execution_count": 22,
   "id": "977f9d85",
   "metadata": {},
   "outputs": [
    {
     "name": "stdout",
     "output_type": "stream",
     "text": [
      "The letter 'e' appears 13 times in the sentence.\n"
     ]
    }
   ],
   "source": []
  },
  {
   "cell_type": "markdown",
   "id": "8be69975",
   "metadata": {},
   "source": [
    "**Q33:** Please use online resources to check the related function for removing the common words from the above sentence. (5 points)\n",
    "\n",
    "hint: common words also called stop words, are frequently occurring words in a language, like \"the,\" \"is,\" and \"and,\" which are typically filtered out in text processing because they offer little value in understanding the essential meaning of a text."
   ]
  },
  {
   "cell_type": "code",
   "execution_count": 23,
   "id": "03ab980e",
   "metadata": {},
   "outputs": [],
   "source": [
    "# List of common stop words\n",
    "stop_words = set([\"the\", \"is\", \"at\", \"which\", \"and\", \"on\", \"in\", \"with\", \"an\", \"this\", \"some\", \"for\", \"of\", \"or\", \"a\", \"to\"])"
   ]
  },
  {
   "cell_type": "code",
   "execution_count": 24,
   "id": "2dc4cbb6",
   "metadata": {},
   "outputs": [
    {
     "name": "stdout",
     "output_type": "stream",
     "text": [
      "Text analytics process extracting meaningful information insights from textual data using algorithms computational techniques, often involving natural language processing, pattern recognition, statistical analysis.\n"
     ]
    }
   ],
   "source": []
  },
  {
   "cell_type": "markdown",
   "id": "e180c902",
   "metadata": {},
   "source": [
    "**Q34:** Please learn from online resources and then list and explain at least 6 defult python string functions (aslo called methods). Use Markdown lanaguage (6 points)\n",
    "\n",
    "- NOTICE: Do not copy and paste from online resources. Violating this policy will be considered plagiarism.\n",
    "\n",
    "For example: join() and split() are very often used string methods. \n",
    "\n",
    "- `join()` can concatenate the elements of an list into a single string.\n",
    "- `split()` can divide a string into a list of substrings based on a specified separator."
   ]
  },
  {
   "cell_type": "markdown",
   "id": "461905fe",
   "metadata": {},
   "source": [
    "[Type your answers (your answers should exclude `join()` and `split()`]"
   ]
  },
  {
   "cell_type": "markdown",
   "id": "8ed4aefb",
   "metadata": {},
   "source": [
    "## Excellent! You have finished homework 1"
   ]
  }
 ],
 "metadata": {
  "kernelspec": {
   "display_name": "Python 3 (ipykernel)",
   "language": "python",
   "name": "python3"
  },
  "language_info": {
   "codemirror_mode": {
    "name": "ipython",
    "version": 3
   },
   "file_extension": ".py",
   "mimetype": "text/x-python",
   "name": "python",
   "nbconvert_exporter": "python",
   "pygments_lexer": "ipython3",
   "version": "3.11.7"
  }
 },
 "nbformat": 4,
 "nbformat_minor": 5
}
