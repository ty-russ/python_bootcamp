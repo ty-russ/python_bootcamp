{
 "cells": [
  {
   "cell_type": "markdown",
   "id": "8e3be088",
   "metadata": {},
   "source": [
    "# Section 1: Python Bootcamp for Data Science\n",
    "\n",
    "## Python Data Type - Part 1: Numbers, Strings\n",
    "\n",
    "## Python Data Types\n",
    "\n",
    "| Type           | Python Name | Description           | Examples |\n",
    "|:----------------|:-------------|:-----------------------|:----------|\n",
    "| Integers       | `int`         | Whole numbers         | 1, 2     |\n",
    "| Floating point | `float`       | Numbers with decimals | 1.5      |\n",
    "| Strings        | `str`         | Texts. Words.         | \"Hello!\" 'world' \"1\"|\n",
    "| Lists          | `list`        | Ordered sequence of objects| [\"Hello!\", 1, 2, 1.5]|\n",
    "| Dictionaries   | `dict`        | A collection of key-value pairs, which map the key to their associated values.| {\"Hello!\": 1, \"world\": 2}|\n",
    "| Tuples         | `tup`         | Ordered unchangable sequence of objects. Used to store multiple items in a single variable.| (\"Hello!\", 1, 2, 1.5)|\n",
    "| Sets           | `set`         | Unordered collection of unique objects|{\"Hello!\",1,2,1.5}|\n",
    "| Booleans       | `bool`        | Logical value indicating `True` or `False`.| 0 == 1 is False|\n"
   ]
  },
  {
   "cell_type": "code",
   "execution_count": 4,
   "id": "815d99fe",
   "metadata": {},
   "outputs": [
    {
     "name": "stdout",
     "output_type": "stream",
     "text": [
      "y\n",
      "r\n",
      "7\n"
     ]
    }
   ],
   "source": [
    "# Exercise 1: Use index slicing to grab the 5th element from each of the given variables independently.\n",
    "\n",
    "variable_1 = \"Analytics\"\n",
    "variable_2 = \"Programming\"\n",
    "variable_3 = \"MIS670\"\n",
    "print(variable_1[4])\n",
    "print(variable_2[4])\n",
    "print(variable_3[4])"
   ]
  },
  {
   "cell_type": "code",
   "execution_count": 12,
   "id": "df57c155",
   "metadata": {},
   "outputs": [
    {
     "name": "stdout",
     "output_type": "stream",
     "text": [
      "The value of 3 decimals is:48.602.\n"
     ]
    }
   ],
   "source": [
    "# Exercise 2: Use formatted print .format() to print the results from the following calculation, round it to 3 decimals.\n",
    "\n",
    "calculate = 4763 / 98\n",
    "\n",
    "# print the results and state \"The value of 3 decimals is:\" \n",
    "# hint: {value:width.precision f} \n",
    "\n",
    "print(\"The value of 3 decimals is:{0:1.3f}.\".format(calculate))"
   ]
  },
  {
   "cell_type": "code",
   "execution_count": 13,
   "id": "9afe219d",
   "metadata": {},
   "outputs": [
    {
     "name": "stdout",
     "output_type": "stream",
     "text": [
      "The value of 3 decimals is:48.602\n"
     ]
    }
   ],
   "source": [
    "# Exercise 3: Use f-string to print the results from the above calculation, round it to 3 decimals.\n",
    "# print the results and state \"The value of 3 decimals is:\"\n",
    "# hint: {value:{width}.{the number of digits}}\n",
    "\n",
    "print(f\"The value of 3 decimals is:{calculate:{1}.{5}}\")"
   ]
  },
  {
   "cell_type": "markdown",
   "id": "d50c56d5",
   "metadata": {},
   "source": [
    "\n",
    "## Python Data Type - Part 2: Lists\n",
    "\n",
    "List a *sequence* in Python and is used to store multiple items in a single variable.\n",
    "\n",
    "Lists are one of 4 built-in data types in Python used to store collections of data, the other 3 are `Tuple`, `Set`, and `Dictionary`, all with different qualities and usage.\n",
    "\n",
    "Lists are created using square brackets, and use commas separating every element in the list."
   ]
  },
  {
   "cell_type": "code",
   "execution_count": 21,
   "id": "18ca9da1",
   "metadata": {},
   "outputs": [],
   "source": [
    "# let's create a list\n",
    "# \"fruits\" is a variable name\n",
    "# the elements inside [] are the items in fruits list\n",
    "\n",
    "fruits = [\"Orange\", \"Apple\", \"Banana\", \"Cherry\", \"Grape\"]"
   ]
  },
  {
   "cell_type": "code",
   "execution_count": 19,
   "id": "31aba0af",
   "metadata": {},
   "outputs": [],
   "source": [
    "# mixed object types list\n",
    "\n",
    "fruits_price = [\"Orange\", 3.99, \"Apple\", 2.99, \"Banana\", 0.79, \"Cherry\", 4.99, \"Grape\", 5.99]"
   ]
  },
  {
   "cell_type": "code",
   "execution_count": 16,
   "id": "11f12a07",
   "metadata": {},
   "outputs": [
    {
     "name": "stdout",
     "output_type": "stream",
     "text": [
      "6\n",
      "10\n"
     ]
    }
   ],
   "source": [
    "# unlike len(string), len(list) is counting the number of elements\n",
    "# string\n",
    "\n",
    "string = \"Orange\"\n",
    "print(len(string))\n",
    "\n",
    "print(len(fruits_price))"
   ]
  },
  {
   "cell_type": "markdown",
   "id": "bf1ece18",
   "metadata": {},
   "source": [
    "### Indexing and slicing"
   ]
  },
  {
   "cell_type": "code",
   "execution_count": 20,
   "id": "82dd408a",
   "metadata": {},
   "outputs": [
    {
     "data": {
      "text/plain": [
       "'Orange'"
      ]
     },
     "execution_count": 20,
     "metadata": {},
     "output_type": "execute_result"
    }
   ],
   "source": [
    "# works like string\n",
    "\n",
    "fruits[0]"
   ]
  },
  {
   "cell_type": "code",
   "execution_count": 28,
   "id": "52422d66",
   "metadata": {},
   "outputs": [
    {
     "data": {
      "text/plain": [
       "['Apple', 'Banana', 'Cherry']"
      ]
     },
     "execution_count": 28,
     "metadata": {},
     "output_type": "execute_result"
    }
   ],
   "source": [
    "# Exercise 1: grab the 2nd to the 4th items of fruits\n",
    "fruits[1:4]"
   ]
  },
  {
   "cell_type": "markdown",
   "id": "40c01d06",
   "metadata": {},
   "source": [
    "### Lists are mutable\n",
    "\n",
    "#### Change certain values"
   ]
  },
  {
   "cell_type": "code",
   "execution_count": 29,
   "id": "17e877ed",
   "metadata": {},
   "outputs": [
    {
     "name": "stdout",
     "output_type": "stream",
     "text": [
      "The initial value of index 3 in fruits was:Cherry\n",
      "--------------------------------------------------------\n",
      "The updated value of index 3 in fruits now is:Dragon fruit\n"
     ]
    }
   ],
   "source": [
    "# change the values of index 3 (4th element) from \"Cherry\" to \"Dragon fruit\"\n",
    "\n",
    "print(f'The initial value of index 3 in fruits was:{fruits[3]}')\n",
    "print(\"--------------------------------------------------------\")\n",
    "\n",
    "# change the values from \"Cherry\" to \"Dragon fruit\"\n",
    "\n",
    "fruits[3] = \"Dragon fruit\"\n",
    "\n",
    "print(f'The updated value of index 3 in fruits now is:{fruits[3]}')"
   ]
  },
  {
   "cell_type": "markdown",
   "id": "5c4f629f",
   "metadata": {},
   "source": [
    "#### Add new elements/items"
   ]
  },
  {
   "cell_type": "code",
   "execution_count": 30,
   "id": "c34ba997",
   "metadata": {},
   "outputs": [
    {
     "name": "stdout",
     "output_type": "stream",
     "text": [
      "['Orange', 'Apple', 'Banana', 'Dragon fruit', 'Grape', 'Mango', 'Kiwi']\n"
     ]
    }
   ],
   "source": [
    "# method 1: list concatenation - combine two lists\n",
    "\n",
    "fruits = fruits + [\"Mango\", \"Kiwi\"]\n",
    "print(fruits)"
   ]
  },
  {
   "cell_type": "code",
   "execution_count": 31,
   "id": "53ca9095",
   "metadata": {},
   "outputs": [
    {
     "name": "stdout",
     "output_type": "stream",
     "text": [
      "['Orange', 'Apple', 'Banana', 'Dragon fruit', 'Grape', 'Mango', 'Kiwi', 'Passion fruit']\n"
     ]
    }
   ],
   "source": [
    "# method 2: use append()\n",
    "\n",
    "fruits.append(\"Passion fruit\")\n",
    "print(fruits)"
   ]
  },
  {
   "cell_type": "markdown",
   "id": "6ce2cacb",
   "metadata": {},
   "source": [
    "#### Remove list items"
   ]
  },
  {
   "cell_type": "code",
   "execution_count": 32,
   "id": "2d9ebf9d",
   "metadata": {},
   "outputs": [
    {
     "name": "stdout",
     "output_type": "stream",
     "text": [
      "['Orange', 'Apple', 'Banana', 'Grape', 'Mango', 'Kiwi', 'Passion fruit']\n"
     ]
    }
   ],
   "source": [
    "# method 1: use remove() to remove the sepecific value\n",
    "\n",
    "fruits.remove(\"Dragon fruit\")\n",
    "print(fruits)"
   ]
  },
  {
   "cell_type": "code",
   "execution_count": 34,
   "id": "7d66c1dc",
   "metadata": {},
   "outputs": [
    {
     "data": {
      "text/plain": [
       "['Orange', 'Apple', 'Banana', 'Grape', 'Passion fruit']"
      ]
     },
     "execution_count": 34,
     "metadata": {},
     "output_type": "execute_result"
    }
   ],
   "source": [
    "# Exercise 2: method 2: use pop(index) to remove the item of index 4\n",
    "\n",
    "fruits.pop(4)\n",
    "# check the modified list\n",
    "fruits"
   ]
  },
  {
   "cell_type": "code",
   "execution_count": 35,
   "id": "778d3eae",
   "metadata": {},
   "outputs": [
    {
     "name": "stdout",
     "output_type": "stream",
     "text": [
      "['Orange', 'Apple', 'Banana', 'Grape']\n"
     ]
    }
   ],
   "source": [
    "# if you don't sepcify the index, use pop() to remove the last item\n",
    "\n",
    "fruits.pop()\n",
    "print(fruits)"
   ]
  },
  {
   "cell_type": "markdown",
   "id": "e11c3fc5",
   "metadata": {},
   "source": [
    "#### Duplicate the items"
   ]
  },
  {
   "cell_type": "code",
   "execution_count": 36,
   "id": "1289b6fa",
   "metadata": {},
   "outputs": [
    {
     "data": {
      "text/plain": [
       "['Orange', 'Apple', 'Banana', 'Grape', 'Orange', 'Apple', 'Banana', 'Grape']"
      ]
     },
     "execution_count": 36,
     "metadata": {},
     "output_type": "execute_result"
    }
   ],
   "source": [
    "# repeat each item twice\n",
    "\n",
    "fruits * 2"
   ]
  },
  {
   "cell_type": "code",
   "execution_count": 37,
   "id": "bf3ea536",
   "metadata": {},
   "outputs": [
    {
     "data": {
      "text/plain": [
       "4"
      ]
     },
     "execution_count": 37,
     "metadata": {},
     "output_type": "execute_result"
    }
   ],
   "source": [
    "# this operation doesn't modify the original fruits list in-place.\n",
    "# let's check the length of fruits now\n",
    "\n",
    "len(fruits)"
   ]
  },
  {
   "cell_type": "markdown",
   "id": "20b9927b",
   "metadata": {},
   "source": [
    "It should also be noted that lists indexing will return an error if there is no element at that index. For example:"
   ]
  },
  {
   "cell_type": "code",
   "execution_count": 38,
   "id": "e6a4cbf5",
   "metadata": {},
   "outputs": [
    {
     "data": {
      "text/plain": [
       "4"
      ]
     },
     "execution_count": 38,
     "metadata": {},
     "output_type": "execute_result"
    }
   ],
   "source": [
    "# Exercise 3: let's check the length of fruits first\n",
    "len(fruits)"
   ]
  },
  {
   "cell_type": "code",
   "execution_count": 39,
   "id": "3a2faf9e",
   "metadata": {},
   "outputs": [
    {
     "ename": "IndexError",
     "evalue": "list index out of range",
     "output_type": "error",
     "traceback": [
      "\u001b[1;31m---------------------------------------------------------------------------\u001b[0m",
      "\u001b[1;31mIndexError\u001b[0m                                Traceback (most recent call last)",
      "Cell \u001b[1;32mIn[39], line 3\u001b[0m\n\u001b[0;32m      1\u001b[0m \u001b[38;5;66;03m# This code will have an Index Error\u001b[39;00m\n\u001b[1;32m----> 3\u001b[0m \u001b[43mfruits\u001b[49m\u001b[43m[\u001b[49m\u001b[38;5;241;43m15\u001b[39;49m\u001b[43m]\u001b[49m \u001b[38;5;66;03m# fruits list doesn't contain these many items\u001b[39;00m\n",
      "\u001b[1;31mIndexError\u001b[0m: list index out of range"
     ]
    }
   ],
   "source": [
    "# This code will have an Index Error\n",
    "\n",
    "fruits[15] # fruits list doesn't contain these many items"
   ]
  },
  {
   "cell_type": "markdown",
   "id": "212544f4",
   "metadata": {},
   "source": [
    "#### Sort a list ascending / descending"
   ]
  },
  {
   "cell_type": "code",
   "execution_count": 40,
   "id": "921942e0",
   "metadata": {},
   "outputs": [
    {
     "name": "stdout",
     "output_type": "stream",
     "text": [
      "[1, 2, 3, 4, 5]\n"
     ]
    }
   ],
   "source": [
    "new_list = [1,4,5,2,3]\n",
    "\n",
    "# Use sort to sort the list (in this numbers it will go ascending, in text will be in alphabetical order)\n",
    "new_list.sort()\n",
    "\n",
    "print(new_list)"
   ]
  },
  {
   "cell_type": "code",
   "execution_count": 41,
   "id": "e10568e1",
   "metadata": {},
   "outputs": [
    {
     "name": "stdout",
     "output_type": "stream",
     "text": [
      "[5, 4, 3, 2, 1]\n"
     ]
    }
   ],
   "source": [
    "# Use reverse to reverse order (this is permanent!)\n",
    "\n",
    "new_list.reverse()\n",
    "\n",
    "print(new_list)"
   ]
  },
  {
   "cell_type": "code",
   "execution_count": 42,
   "id": "666b10fd",
   "metadata": {},
   "outputs": [
    {
     "name": "stdout",
     "output_type": "stream",
     "text": [
      "['Alpha', 'Canada', 'This', 'apple', 'index', 'is', 'list', 'use']\n"
     ]
    }
   ],
   "source": [
    "# sort() also can be used for lists of strings\n",
    "# it will sort the string alphabetically.\n",
    "\n",
    "string_list = [\"use\", \"This\", \"is\", \"apple\",\"index\",\"list\", \"Alpha\", \"Canada\"]\n",
    "\n",
    "# sort() starts with words beginning with caps, then small cases\n",
    "string_list.sort() \n",
    "print(string_list)"
   ]
  },
  {
   "cell_type": "markdown",
   "id": "5616072b",
   "metadata": {},
   "source": [
    "## Mutability in Python\n",
    "\n",
    "| Type           | Python Name | Mutability|\n",
    "|:----------------|:-------------|:-----------------------|\n",
    "| Integers       | `int`         | Immutable  | \n",
    "| Floating point | `float`       | Immutable | \n",
    "| Strings        | `str`         | Immutable| \n",
    "| Lists          | `list`        | Mutable| \n",
    "| Dictionaries   | `dict`        | Mutable|\n",
    "| Tuples         | `tup`         | Immutable|\n",
    "| Sets           | `set`         | Mutable|\n",
    "| Booleans       | `bool`        | Immutable|"
   ]
  },
  {
   "cell_type": "code",
   "execution_count": 43,
   "id": "2c6e7d71",
   "metadata": {},
   "outputs": [
    {
     "name": "stdout",
     "output_type": "stream",
     "text": [
      "Immutable\n",
      "IMMUTABLE\n"
     ]
    }
   ],
   "source": [
    "# let's recall when we apply build-in methods on immutable object\n",
    "\n",
    "s = \"Immutable\"\n",
    "s.upper()\n",
    "print(s) # the function won't change the string\n",
    "print(s.upper())"
   ]
  },
  {
   "cell_type": "code",
   "execution_count": 44,
   "id": "41c009e5",
   "metadata": {},
   "outputs": [
    {
     "name": "stdout",
     "output_type": "stream",
     "text": [
      "IMMUTABLE\n"
     ]
    }
   ],
   "source": [
    "# It only changes when you assign a new value to this string variable\n",
    "# but it is no longer the old variable \n",
    "s = s.upper()\n",
    "print(s)"
   ]
  },
  {
   "cell_type": "code",
   "execution_count": 46,
   "id": "30867808",
   "metadata": {},
   "outputs": [
    {
     "name": "stdout",
     "output_type": "stream",
     "text": [
      "[3, 2, 1]\n"
     ]
    }
   ],
   "source": [
    "# For mutable data types \n",
    "# the functions will change it directly\n",
    "l = [1,2,3]\n",
    "l.reverse()\n",
    "print(l)"
   ]
  },
  {
   "cell_type": "markdown",
   "id": "c058b49b",
   "metadata": {},
   "source": [
    "A variable in mutable data types is saving an address/container.\n",
    "\n",
    "### Lists inside of a list (nesting)"
   ]
  },
  {
   "cell_type": "code",
   "execution_count": 47,
   "id": "28814596",
   "metadata": {},
   "outputs": [
    {
     "name": "stdout",
     "output_type": "stream",
     "text": [
      "[[1, 2, 3], [4, 5, 6], [7, 8, 9]]\n"
     ]
    }
   ],
   "source": [
    "# Let's make three lists\n",
    "lst_1=[1,2,3]\n",
    "lst_2=[4,5,6]\n",
    "lst_3=[7,8,9]\n",
    "\n",
    "# Make a list of lists to form a matrix\n",
    "matrix = [lst_1,lst_2,lst_3]\n",
    "\n",
    "print(matrix)"
   ]
  },
  {
   "cell_type": "code",
   "execution_count": 48,
   "id": "5511e159",
   "metadata": {},
   "outputs": [
    {
     "data": {
      "text/plain": [
       "3"
      ]
     },
     "execution_count": 48,
     "metadata": {},
     "output_type": "execute_result"
    }
   ],
   "source": [
    "# How many elements in matrix?\n",
    "len(matrix)"
   ]
  },
  {
   "cell_type": "code",
   "execution_count": 49,
   "id": "7c1f8a63",
   "metadata": {},
   "outputs": [
    {
     "data": {
      "text/plain": [
       "[1, 2, 3]"
      ]
     },
     "execution_count": 49,
     "metadata": {},
     "output_type": "execute_result"
    }
   ],
   "source": [
    "# grab the first element of a list\n",
    "# if it is a nested list, then the output will return a list\n",
    "\n",
    "matrix[0]"
   ]
  },
  {
   "cell_type": "code",
   "execution_count": 50,
   "id": "8f7ee63a",
   "metadata": {},
   "outputs": [
    {
     "data": {
      "text/plain": [
       "2"
      ]
     },
     "execution_count": 50,
     "metadata": {},
     "output_type": "execute_result"
    }
   ],
   "source": [
    "# if you want to grab an item from a list in a nested list\n",
    "\n",
    "matrix[0][1] # two steps, first get the list from the big list, then the item"
   ]
  },
  {
   "cell_type": "code",
   "execution_count": 51,
   "id": "3100ae1e",
   "metadata": {},
   "outputs": [
    {
     "data": {
      "text/plain": [
       "'computer'"
      ]
     },
     "execution_count": 51,
     "metadata": {},
     "output_type": "execute_result"
    }
   ],
   "source": [
    "# Exercise 7: grab \"computer\" from the given list\n",
    "\n",
    "mydesk = [\"cup\", \"books\", [\"folder\", [\"computer\", \"speaker\"], \"mouse\"], [\"napkins\", \"pens\"]]\n",
    "mydesk[2][1][0]\n"
   ]
  },
  {
   "cell_type": "markdown",
   "id": "7f3cc39f",
   "metadata": {},
   "source": [
    "## Python Data Type - Part 2: Dictionaries\n",
    "\n",
    "Dictionaries are used to store data values in key:value pairs.\n",
    "\n",
    "A dictionary is a collection which is ordered*, mutable and do not allow duplicates.\n",
    "\n",
    "`*As of Python version 3.7, dictionaries are ordered. In Python 3.6 and earlier, dictionaries are unordered.`\n",
    "\n",
    "Dictionaries are written with curly brackets, and have keys and values:"
   ]
  },
  {
   "cell_type": "code",
   "execution_count": 52,
   "id": "4565ecd6",
   "metadata": {},
   "outputs": [
    {
     "name": "stdout",
     "output_type": "stream",
     "text": [
      "<class 'list'>\n"
     ]
    }
   ],
   "source": [
    "# compare lists and dictionaries\n",
    "# comma to separate the items\n",
    "\n",
    "fruits_price = [\"Orange\", 3.99, \"Apple\", 2.99, \"Banana\", 0.79, \"Cherry\", 4.99, \"Grape\", 5.99]\n",
    "\n",
    "print(type(fruits_price))"
   ]
  },
  {
   "cell_type": "code",
   "execution_count": 53,
   "id": "90d2b711",
   "metadata": {},
   "outputs": [
    {
     "name": "stdout",
     "output_type": "stream",
     "text": [
      "<class 'dict'>\n"
     ]
    }
   ],
   "source": [
    "# a dictionary\n",
    "# comma to separate the items\n",
    "# each item is a key: value pair\n",
    "\n",
    "fruits_d = {\"Orange\":3.99, \"Apple\":[0.99,2.99], \"Banana\":0.79, \"Cherry\":4.99, \"Grape\":{\"price\":5.99}}\n",
    "\n",
    "print(type(fruits_d))"
   ]
  },
  {
   "cell_type": "code",
   "execution_count": 57,
   "id": "15f1459b",
   "metadata": {},
   "outputs": [
    {
     "name": "stdout",
     "output_type": "stream",
     "text": [
      "5\n",
      "10\n"
     ]
    }
   ],
   "source": [
    "# Exercise 8: check the length of the list and the dictionary\n",
    "print(len(fruits_d))\n",
    "print(len(fruits_price))"
   ]
  },
  {
   "cell_type": "code",
   "execution_count": 58,
   "id": "ccb4691a",
   "metadata": {},
   "outputs": [
    {
     "name": "stdout",
     "output_type": "stream",
     "text": [
      "[0.99, 2.99]\n",
      "{'price': 5.99}\n"
     ]
    }
   ],
   "source": [
    "# you can save various data types in dictionaries\n",
    "# and grab values using the key names\n",
    "\n",
    "print(fruits_d[\"Apple\"]) # prices for Apple; this is a list\n",
    "print(fruits_d[\"Grape\"]) # prince for Grape; this is a dictionary"
   ]
  },
  {
   "cell_type": "code",
   "execution_count": 59,
   "id": "dd518be8",
   "metadata": {},
   "outputs": [
    {
     "name": "stdout",
     "output_type": "stream",
     "text": [
      "0.99\n"
     ]
    },
    {
     "ename": "TypeError",
     "evalue": "'float' object is not subscriptable",
     "output_type": "error",
     "traceback": [
      "\u001b[1;31m---------------------------------------------------------------------------\u001b[0m",
      "\u001b[1;31mTypeError\u001b[0m                                 Traceback (most recent call last)",
      "Cell \u001b[1;32mIn[59], line 4\u001b[0m\n\u001b[0;32m      1\u001b[0m \u001b[38;5;66;03m# print the first item of a key's values (list) in a dictionary\u001b[39;00m\n\u001b[0;32m      3\u001b[0m \u001b[38;5;28mprint\u001b[39m(fruits_d[\u001b[38;5;124m\"\u001b[39m\u001b[38;5;124mApple\u001b[39m\u001b[38;5;124m\"\u001b[39m][\u001b[38;5;241m0\u001b[39m])\n\u001b[1;32m----> 4\u001b[0m \u001b[38;5;28mprint\u001b[39m(\u001b[43mfruits_d\u001b[49m\u001b[43m[\u001b[49m\u001b[38;5;124;43m\"\u001b[39;49m\u001b[38;5;124;43mOrange\u001b[39;49m\u001b[38;5;124;43m\"\u001b[39;49m\u001b[43m]\u001b[49m\u001b[43m[\u001b[49m\u001b[38;5;241;43m0\u001b[39;49m\u001b[43m]\u001b[49m) \u001b[38;5;66;03m# this will return an error, 3.99 is a float not a list\u001b[39;00m\n",
      "\u001b[1;31mTypeError\u001b[0m: 'float' object is not subscriptable"
     ]
    }
   ],
   "source": [
    "# print the first item of a key's values (list) in a dictionary\n",
    "\n",
    "print(fruits_d[\"Apple\"][0])\n",
    "print(fruits_d[\"Orange\"][0]) # this will return an error, 3.99 is a float not a list"
   ]
  },
  {
   "cell_type": "code",
   "execution_count": 60,
   "id": "28b95485",
   "metadata": {},
   "outputs": [
    {
     "data": {
      "text/plain": [
       "3.99"
      ]
     },
     "execution_count": 60,
     "metadata": {},
     "output_type": "execute_result"
    }
   ],
   "source": [
    "# Exercise 5: Can you fix the above error?\n",
    "fruits_d[\"Orange\"]\n"
   ]
  },
  {
   "cell_type": "code",
   "execution_count": 67,
   "id": "72bed002",
   "metadata": {},
   "outputs": [
    {
     "name": "stdout",
     "output_type": "stream",
     "text": [
      "5.99\n"
     ]
    }
   ],
   "source": [
    "# grab a value from a dictionary inside of a dictionary\n",
    "# using multiple key names\n",
    "\n",
    "print(fruits_d[\"Grape\"][\"price\"])"
   ]
  },
  {
   "cell_type": "markdown",
   "id": "8bf6dbb7",
   "metadata": {},
   "source": [
    "Change new keys and values to dictionaries. **Dictionaries are mutable.**\n",
    "\n",
    "Add keys and values to a dictionary:"
   ]
  },
  {
   "cell_type": "code",
   "execution_count": 68,
   "id": "ccdda2ad",
   "metadata": {},
   "outputs": [
    {
     "name": "stdout",
     "output_type": "stream",
     "text": [
      "{'Name': 'John Smith', 'Age': 30}\n"
     ]
    }
   ],
   "source": [
    "d = {} # create an empty and new dictionary\n",
    "\n",
    "d[\"Name\"] = \"John Smith\" # assign a key \"Name\" with a value \"John Smith\"\n",
    "d[\"Age\"] = 30 # assign a key \"Age\" with a value \"30\"\n",
    "\n",
    "print(d)"
   ]
  },
  {
   "cell_type": "code",
   "execution_count": 62,
   "id": "69722a6c",
   "metadata": {},
   "outputs": [
    {
     "name": "stdout",
     "output_type": "stream",
     "text": [
      "{'Name': 'John Smith', 'Age': 30, 'Occupation': 'Doctor'}\n"
     ]
    }
   ],
   "source": [
    "# add new keys and values to an exsiting dictionary\n",
    "\n",
    "d[\"Occupation\"] = \"Doctor\"\n",
    "\n",
    "print(d)"
   ]
  },
  {
   "cell_type": "code",
   "execution_count": 63,
   "id": "f180323d",
   "metadata": {},
   "outputs": [
    {
     "name": "stdout",
     "output_type": "stream",
     "text": [
      "{'Name': 'Jane Smith', 'Age': 30, 'Occupation': 'Doctor'}\n"
     ]
    }
   ],
   "source": [
    "# change values to a specific key\n",
    "# method 1: directly change the values of a key\n",
    "d[\"Name\"] = \"Jane Smith\"\n",
    "print(d)"
   ]
  },
  {
   "cell_type": "code",
   "execution_count": 64,
   "id": "32d4108c",
   "metadata": {},
   "outputs": [
    {
     "name": "stdout",
     "output_type": "stream",
     "text": [
      "{'Name': 'John Smith', 'Age': 30, 'Occupation': 'Doctor'}\n"
     ]
    }
   ],
   "source": [
    "# method 2: using update()\n",
    "d.update({\"Name\":\"John Smith\"})\n",
    "print(d)"
   ]
  },
  {
   "cell_type": "code",
   "execution_count": 65,
   "id": "91a23584",
   "metadata": {},
   "outputs": [
    {
     "name": "stdout",
     "output_type": "stream",
     "text": [
      "{'Name': 'John Smith', 'Age': 30}\n"
     ]
    }
   ],
   "source": [
    "# remove a key and its values\n",
    "\n",
    "d.pop(\"Occupation\")\n",
    "print(d)"
   ]
  },
  {
   "cell_type": "markdown",
   "id": "30d659b2",
   "metadata": {},
   "source": [
    "Print all the keys from a dictionary, using keys():"
   ]
  },
  {
   "cell_type": "code",
   "execution_count": 69,
   "id": "32d0bee3",
   "metadata": {},
   "outputs": [
    {
     "data": {
      "text/plain": [
       "dict_keys(['Orange', 'Apple', 'Banana', 'Cherry', 'Grape'])"
      ]
     },
     "execution_count": 69,
     "metadata": {},
     "output_type": "execute_result"
    }
   ],
   "source": [
    "# Exercise 6: Print all the keys from fruits_d\n",
    "fruits_d.keys()"
   ]
  },
  {
   "cell_type": "markdown",
   "id": "b0c83b99",
   "metadata": {},
   "source": [
    "Print all the values from a dictionary, using values()"
   ]
  },
  {
   "cell_type": "code",
   "execution_count": 70,
   "id": "39a53230",
   "metadata": {},
   "outputs": [
    {
     "data": {
      "text/plain": [
       "dict_values([3.99, [0.99, 2.99], 0.79, 4.99, {'price': 5.99}])"
      ]
     },
     "execution_count": 70,
     "metadata": {},
     "output_type": "execute_result"
    }
   ],
   "source": [
    "# Exercise 7: print all the values from d and fruits_d\n",
    "fruits_d.values()"
   ]
  },
  {
   "cell_type": "markdown",
   "id": "61d98a11",
   "metadata": {},
   "source": [
    "### Dictionary cannot have duplicate keys\n",
    "\n",
    "For example:"
   ]
  },
  {
   "cell_type": "code",
   "execution_count": 71,
   "id": "3f50795a",
   "metadata": {},
   "outputs": [
    {
     "name": "stdout",
     "output_type": "stream",
     "text": [
      "{'Orange': 3.99, 'Apple': [0.99, 2.99], 'Banana': 0.79, 'Cherry': 4.99, 'Grape': {'price': 3.99}}\n"
     ]
    }
   ],
   "source": [
    "fruits_d = {\"Orange\":3.99, \"Apple\":[0.99,2.99], \"Banana\":0.79, \"Cherry\":4.99, \n",
    "            \"Grape\":{\"price\":5.99, \"price\":3.99}} # notice there are two keys called \"price\"\n",
    "print(fruits_d)\n",
    "\n",
    "# the new key will overwrite the existing values"
   ]
  },
  {
   "cell_type": "markdown",
   "id": "38584ae1",
   "metadata": {},
   "source": [
    "Check if a key in a dictionary:"
   ]
  },
  {
   "cell_type": "code",
   "execution_count": 72,
   "id": "5dc83644",
   "metadata": {},
   "outputs": [],
   "source": [
    "# if the key exsits, print the values\n",
    "# does not exsits\n",
    "\n",
    "new = \"Kiwi\"\n",
    "\n",
    "if new in fruits_d:\n",
    "    print(f\"Yes, {new} is here!\")"
   ]
  },
  {
   "cell_type": "code",
   "execution_count": 73,
   "id": "1baf7887",
   "metadata": {},
   "outputs": [
    {
     "name": "stdout",
     "output_type": "stream",
     "text": [
      "Yes, Orange is here!\n"
     ]
    }
   ],
   "source": [
    "# Exercise 9: does Orange in fruits_d, if yes, print \"Yes, Orange is here!\"\n",
    "\n",
    "new = \"Orange\"\n",
    "\n",
    "if new in fruits_d:\n",
    "    print(f\"Yes, {new} is here!\")"
   ]
  },
  {
   "cell_type": "markdown",
   "id": "2bee7617",
   "metadata": {},
   "source": [
    "## Python Data Type - Part 2: Tuples\n",
    "\n",
    "A tuple is a collection which is ordered and **immutable** (unchangeable)."
   ]
  },
  {
   "cell_type": "code",
   "execution_count": 74,
   "id": "08ace236",
   "metadata": {},
   "outputs": [
    {
     "name": "stdout",
     "output_type": "stream",
     "text": [
      "<class 'list'> <class 'tuple'>\n"
     ]
    }
   ],
   "source": [
    "# compare lists and tuples\n",
    "\n",
    "lis_1 = [\"iPad\", \"iPhone\", \"MacBook\"]\n",
    "tup_1 = (\"iPad\", \"iPhone\", \"MacBook\")\n",
    "print(type(lis_1), type(tup_1))"
   ]
  },
  {
   "cell_type": "code",
   "execution_count": 75,
   "id": "8b9d6b81",
   "metadata": {},
   "outputs": [
    {
     "name": "stdout",
     "output_type": "stream",
     "text": [
      "iPhone\n",
      "iPhone\n"
     ]
    }
   ],
   "source": [
    "# slicing items\n",
    "\n",
    "print(lis_1[1])\n",
    "print(tup_1[1])"
   ]
  },
  {
   "cell_type": "code",
   "execution_count": 76,
   "id": "2d5b9464",
   "metadata": {},
   "outputs": [
    {
     "data": {
      "text/plain": [
       "1"
      ]
     },
     "execution_count": 76,
     "metadata": {},
     "output_type": "execute_result"
    }
   ],
   "source": [
    "# Use index() to enter a value and return the index\n",
    "\n",
    "tup_1.index('iPhone')"
   ]
  },
  {
   "cell_type": "code",
   "execution_count": 77,
   "id": "286e1e3c",
   "metadata": {},
   "outputs": [
    {
     "ename": "AttributeError",
     "evalue": "'tuple' object has no attribute 'append'",
     "output_type": "error",
     "traceback": [
      "\u001b[1;31m---------------------------------------------------------------------------\u001b[0m",
      "\u001b[1;31mAttributeError\u001b[0m                            Traceback (most recent call last)",
      "Cell \u001b[1;32mIn[77], line 4\u001b[0m\n\u001b[0;32m      1\u001b[0m \u001b[38;5;66;03m# you can't add or remove items from tuples\u001b[39;00m\n\u001b[0;32m      2\u001b[0m \u001b[38;5;66;03m# because it is immutable\u001b[39;00m\n\u001b[1;32m----> 4\u001b[0m \u001b[43mtup_1\u001b[49m\u001b[38;5;241;43m.\u001b[39;49m\u001b[43mappend\u001b[49m(\u001b[38;5;124m\"\u001b[39m\u001b[38;5;124mApple watch\u001b[39m\u001b[38;5;124m\"\u001b[39m)\n\u001b[0;32m      5\u001b[0m \u001b[38;5;28mprint\u001b[39m(tup_1) \u001b[38;5;66;03m# this will give you an error\u001b[39;00m\n",
      "\u001b[1;31mAttributeError\u001b[0m: 'tuple' object has no attribute 'append'"
     ]
    }
   ],
   "source": [
    "# you can't add or remove items from tuples\n",
    "# because it is immutable\n",
    "\n",
    "tup_1.append(\"Apple watch\")\n",
    "print(tup_1) # this will give you an error"
   ]
  },
  {
   "cell_type": "markdown",
   "id": "57cd42cb",
   "metadata": {},
   "source": [
    "Tuples are used when you are passing around an object and need to make sure it does not get changed. **They provide convenient sources of data integrity.**\n",
    "\n",
    "**Data integrity** defines the accuracy and consistency when maintaining data. It is essential for a system's design, implementation, and usage to save, process, or retrieve data. \n",
    "\n",
    ">If you want to change a tuple, you may need to change it to a list then modify the list. For example:"
   ]
  },
  {
   "cell_type": "code",
   "execution_count": 79,
   "id": "a3c7a4ec",
   "metadata": {},
   "outputs": [
    {
     "name": "stdout",
     "output_type": "stream",
     "text": [
      "('iPad', 'iPhone', 'MacBook', 'Apple watch', 'Apple watch')\n"
     ]
    }
   ],
   "source": [
    "# use list() to convert it to a list\n",
    "new_list = list(tup_1) \n",
    "\n",
    "# add a new item\n",
    "new_list.append(\"Apple watch\") \n",
    "\n",
    "# use tuple() to change it back to tuple\n",
    "tup_1 = tuple(new_list) \n",
    "print(tup_1)"
   ]
  },
  {
   "cell_type": "markdown",
   "id": "70bdd2cb",
   "metadata": {},
   "source": [
    "#### Notice: A tuple with one element requires a comma in Python\n",
    "\n",
    "A single item tuple must have a trailing comma, such as (d,), otherwise it will show \"can only concatenate tuple (not \"str\") to tuple\".This is because tuples are constructed by the comma operator with or without enclosing parentheses."
   ]
  },
  {
   "cell_type": "code",
   "execution_count": 80,
   "id": "b8e11f9f",
   "metadata": {},
   "outputs": [
    {
     "name": "stdout",
     "output_type": "stream",
     "text": [
      "('iPad', 'iPhone', 'MacBook', 'Apple watch', 'Apple watch', 'Apple pencil')\n"
     ]
    }
   ],
   "source": [
    "# Or you can add tuple to a tuple\n",
    "new_tup = (\"Apple pencil\",) \n",
    "\n",
    "# add tuple to a tuple\n",
    "tup_1 += new_tup # += provides a convenient way to add a value to an existing variable \n",
    "                 # and assign the new value back to the same variable. \n",
    "print(tup_1)"
   ]
  },
  {
   "cell_type": "code",
   "execution_count": 83,
   "id": "9383aa24",
   "metadata": {},
   "outputs": [
    {
     "name": "stdout",
     "output_type": "stream",
     "text": [
      "No, it reassigns\n"
     ]
    },
    {
     "data": {
      "text/plain": [
       "(1, 2, 3, 4)"
      ]
     },
     "execution_count": 83,
     "metadata": {},
     "output_type": "execute_result"
    }
   ],
   "source": [
    "# Exercise 10: Add a tuple to an existing tuple\n",
    "\n",
    "num_tup = (1,2,3)\n",
    "\n",
    "# create a new tuple with single number 4 and add it to the num_t\n",
    "\n",
    "new_tup = (4,)\n",
    "\n",
    "num_tup += new_tup\n",
    "\n",
    "# Exercise 11: Question: does the above operation changes the num_t? and why?\n",
    "print(\"No, it reassigns\")\n",
    "num_tup\n"
   ]
  },
  {
   "cell_type": "markdown",
   "id": "2226310c",
   "metadata": {},
   "source": [
    "## Python Data Type - Part 2: Sets\n",
    "\n",
    "Sets only contain **unique** elements. They are unordered, **mutable**."
   ]
  },
  {
   "cell_type": "code",
   "execution_count": 84,
   "id": "f0185897",
   "metadata": {},
   "outputs": [
    {
     "name": "stdout",
     "output_type": "stream",
     "text": [
      "{'Mango', 'Apple', 'Orange', 'Kiwi', 'Banana', 'Cherry'}\n"
     ]
    }
   ],
   "source": [
    "# sets are also using {}\n",
    "# sets are will automatically remove the duplicates\n",
    "\n",
    "fruits_set = {'Orange', 'Apple', 'Apple','Banana', 'Cherry', 'Apple', \n",
    "              'Mango', 'Kiwi', 'Kiwi'}\n",
    "print(fruits_set)"
   ]
  },
  {
   "cell_type": "code",
   "execution_count": 85,
   "id": "d0dc7d73",
   "metadata": {},
   "outputs": [
    {
     "name": "stdout",
     "output_type": "stream",
     "text": [
      "{'Mango', 'Apple', 'Orange', 'Kiwi', 'Banana', 'Cherry', 'Pineapple'}\n"
     ]
    }
   ],
   "source": [
    "# use add() to add elements to sets\n",
    "\n",
    "fruits_set.add(\"Pineapple\")\n",
    "print(fruits_set)"
   ]
  },
  {
   "cell_type": "code",
   "execution_count": 86,
   "id": "8c59131d",
   "metadata": {},
   "outputs": [
    {
     "name": "stdout",
     "output_type": "stream",
     "text": [
      "{0.99, 'Apple', 1.58, 'Orange', 2.99, 'Banana', 4.26, 'Pineapple', 'Mango', 'Kiwi', 'Cherry'}\n"
     ]
    }
   ],
   "source": [
    "# use union() to join two sets\n",
    "\n",
    "fruit_price = {2.99, 0.99, 1.58, 4.26}\n",
    "combine = fruits_set.union(fruit_price)\n",
    "print(combine)"
   ]
  },
  {
   "cell_type": "markdown",
   "id": "6a931a87",
   "metadata": {},
   "source": [
    "## Python Data Type - Part 2: Booleans\n",
    "\n",
    "Booleans represent one of two values: `True` or `False`."
   ]
  },
  {
   "cell_type": "code",
   "execution_count": 87,
   "id": "757f6c0b",
   "metadata": {},
   "outputs": [
    {
     "name": "stdout",
     "output_type": "stream",
     "text": [
      "False\n"
     ]
    }
   ],
   "source": [
    "print(1 == 0)"
   ]
  },
  {
   "cell_type": "code",
   "execution_count": 55,
   "id": "5486a8c3",
   "metadata": {},
   "outputs": [
    {
     "name": "stdout",
     "output_type": "stream",
     "text": [
      "True\n"
     ]
    }
   ],
   "source": [
    "print(1 > 0)"
   ]
  },
  {
   "cell_type": "code",
   "execution_count": 88,
   "id": "bf4e81be",
   "metadata": {},
   "outputs": [
    {
     "data": {
      "text/plain": [
       "True"
      ]
     },
     "execution_count": 88,
     "metadata": {},
     "output_type": "execute_result"
    }
   ],
   "source": [
    "True # capitalize T/F otherwise will be an error"
   ]
  },
  {
   "cell_type": "markdown",
   "id": "628db97f",
   "metadata": {},
   "source": [
    "### Python Data Types Summary\n",
    "\n",
    "There are four fundamental data types in the Python programming language:\n",
    "\n",
    "- **List** is a collection which is **ordered and mutable**. Allows duplicate members.\n",
    "- **Tuple** is a collection which is **ordered and immutable**. Allows duplicate members.\n",
    "- **Set** is a collection which is **unordered, immutable, and unindexed**. No duplicate members.\n",
    "- **Dictionary** is a collection which is **ordered**(3.6+) **and mutable**. No duplicate members.\n",
    "\n",
    "When choosing a data type, it is useful to understand the properties of that type. Choosing the right type for a particular data set could mean retention of meaning, and, it could mean an increase in efficiency or security."
   ]
  },
  {
   "cell_type": "markdown",
   "id": "08261a4c",
   "metadata": {},
   "source": [
    "## Python Comparison Operators\n",
    "\n",
    "These operators will allow us to compare variables and output a Boolean value (True or False).\n",
    "\n",
    "#### Equal"
   ]
  },
  {
   "cell_type": "code",
   "execution_count": 89,
   "id": "81ff063e",
   "metadata": {},
   "outputs": [
    {
     "data": {
      "text/plain": [
       "True"
      ]
     },
     "execution_count": 89,
     "metadata": {},
     "output_type": "execute_result"
    }
   ],
   "source": [
    "2 == 2"
   ]
  },
  {
   "cell_type": "markdown",
   "id": "4738a0cf",
   "metadata": {},
   "source": [
    "#### Not Equal"
   ]
  },
  {
   "cell_type": "code",
   "execution_count": 90,
   "id": "ce7e9575",
   "metadata": {},
   "outputs": [
    {
     "data": {
      "text/plain": [
       "True"
      ]
     },
     "execution_count": 90,
     "metadata": {},
     "output_type": "execute_result"
    }
   ],
   "source": [
    "2 != 1"
   ]
  },
  {
   "cell_type": "markdown",
   "id": "300c6d99",
   "metadata": {},
   "source": [
    "#### Greater Than"
   ]
  },
  {
   "cell_type": "code",
   "execution_count": 91,
   "id": "72082532",
   "metadata": {},
   "outputs": [
    {
     "data": {
      "text/plain": [
       "True"
      ]
     },
     "execution_count": 91,
     "metadata": {},
     "output_type": "execute_result"
    }
   ],
   "source": [
    "2 > 1"
   ]
  },
  {
   "cell_type": "markdown",
   "id": "3041275d",
   "metadata": {},
   "source": [
    "#### Less Than"
   ]
  },
  {
   "cell_type": "code",
   "execution_count": 92,
   "id": "6766c5b5",
   "metadata": {},
   "outputs": [
    {
     "data": {
      "text/plain": [
       "True"
      ]
     },
     "execution_count": 92,
     "metadata": {},
     "output_type": "execute_result"
    }
   ],
   "source": [
    "2 < 4"
   ]
  },
  {
   "cell_type": "markdown",
   "id": "6936e606",
   "metadata": {},
   "source": [
    "#### Greater Than or Equal to"
   ]
  },
  {
   "cell_type": "code",
   "execution_count": 93,
   "id": "a8bf0233",
   "metadata": {},
   "outputs": [
    {
     "data": {
      "text/plain": [
       "True"
      ]
     },
     "execution_count": 93,
     "metadata": {},
     "output_type": "execute_result"
    }
   ],
   "source": [
    "10 >= 10"
   ]
  },
  {
   "cell_type": "markdown",
   "id": "8700f421",
   "metadata": {},
   "source": [
    "## Python Operators\n",
    "\n",
    "Python divides the operators in the following groups:\n",
    "\n",
    "- Arithmetic operators\n",
    "- Assignment operators\n",
    "- Comparison operators\n",
    "- Logical operators\n",
    "- Identity operators\n",
    "- Membership operators\n",
    "- Bitwise operators (not included)\n",
    "\n",
    ">#### Python Arithmetic Operators\n",
    "\n",
    "|**Operator** | **Name** | **Example** |\n",
    "|:------------|:---------|:------------|\n",
    "|`+`          |Addition  |x + y |\n",
    "|`-`|Subdtraction|x - y|\n",
    "|`*`|Multiplication|x * y|\n",
    "|`/`|Division|x / y|\n",
    "|`%`|Modulus|x % y|\n",
    "|`**`|Exponentiation|x ** y|\n",
    "|`//`|Floor division*|x // y|\n",
    "\n",
    "*The floor division will divide the first argument by the second and round the result down to the nearest whole number, making it equivalent to the math. \n",
    "\n",
    ">#### Python Assignment Operators\n",
    "\n",
    "|**Operator** | **Example** | **Same As** |\n",
    "|:------------|:---------|:------------|\n",
    "|`=`|\tx = 5|\tx = 5|\t\n",
    "|`+=`|\tx += 3|\tx = x + 3|\t\n",
    "|`-=`|\tx -= 3|\tx = x - 3|\t\n",
    "|`*=`|\tx * = 3|\tx = x * 3|\t\n",
    "|`/=`|\tx /= 3\t|x = x / 3|\t\n",
    "|`%=`|\tx %= 3|\tx = x % 3|\t\n",
    "|`//=`|\tx //= 3|\tx = x // 3|\t\n",
    "|`**=`|\tx ** = 3|\tx = x ** 3|\t\n",
    "\n",
    ">#### Python Logical Operators\n",
    "\n",
    "|**Operator** | **Description** | **Example** |\n",
    "|:------------|:---------|:------------|\n",
    "|`and`| \tReturns True if both statements are true|\tx < 5 and  x < 10|\t\n",
    "|`or`|\tReturns True if one of the statements is true|\tx < 5 or x < 4|\t\n",
    "|`not`|\tReverse the result, returns False if the result is true|\tnot(x < 5 and x < 10)|\n",
    "\n",
    ">#### Python Identity Operators\n",
    "\n",
    "|**Operator** | **Description** | **Example** |\n",
    "|:------------|:---------|:------------|\n",
    "|`is`| \tReturns True if both variables are the same object|\tx is y\t|\n",
    "|`is not`|\tReturns True if both variables are not the same object|\tx is not y|\n",
    "\n",
    ">#### Python Membership Operators\n",
    "\n",
    "|**Operator** | **Description** | **Example** |\n",
    "|:------------|:---------|:------------|\n",
    "|`in`| \tReturns True if a sequence with the specified value is present in the object|\tx in y\t|\n",
    "|`not in`|\tReturns True if a sequence with the specified value is not present in the object|\tx not in y|"
   ]
  },
  {
   "cell_type": "markdown",
   "id": "aba89336",
   "metadata": {},
   "source": [
    "## Refereces:\n",
    "\n",
    "1. Udemy - The Complete Python Bootcamp From Zero to Hero in Python:https://www.udemy.com/course/complete-python-bootcamp/learn/lecture/9388534#overview\n",
    "2. W3schools - Python Tutorial: https://www.w3schools.com/python/default.asp\n",
    "3. Google Education - Python: https://developers.google.com/edu/python"
   ]
  }
 ],
 "metadata": {
  "kernelspec": {
   "display_name": "Python 3 (ipykernel)",
   "language": "python",
   "name": "python3"
  },
  "language_info": {
   "codemirror_mode": {
    "name": "ipython",
    "version": 3
   },
   "file_extension": ".py",
   "mimetype": "text/x-python",
   "name": "python",
   "nbconvert_exporter": "python",
   "pygments_lexer": "ipython3",
   "version": "3.11.7"
  }
 },
 "nbformat": 4,
 "nbformat_minor": 5
}
