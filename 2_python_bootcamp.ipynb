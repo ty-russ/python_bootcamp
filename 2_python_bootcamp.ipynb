{
 "cells": [
  {
   "cell_type": "markdown",
   "id": "c0a63a33",
   "metadata": {},
   "source": [
    "# Section 1: Python Bootcamp for Data Science\n",
    "\n",
    ">**Today's Lectrure:**\n",
    "\n",
    "- Python Syntax\n",
    "- Python Comments\n",
    "- Python Variables\n",
    "- Python Data Types - part 1: Numbers, Strings, Lists, Casting"
   ]
  },
  {
   "cell_type": "markdown",
   "id": "fffb74da",
   "metadata": {},
   "source": [
    "## Python Syntax & Comments\n",
    "\n",
    "Python syntax can be executed by writing directly in the code cells (see the following examples)"
   ]
  },
  {
   "cell_type": "code",
   "execution_count": 1,
   "id": "eb1d29ce",
   "metadata": {},
   "outputs": [
    {
     "name": "stdout",
     "output_type": "stream",
     "text": [
      "This is a comment\n"
     ]
    }
   ],
   "source": [
    "# print the results (This is a comment)\n",
    "print(\"This is a comment\")"
   ]
  },
  {
   "cell_type": "code",
   "execution_count": 3,
   "id": "bbbcb04f",
   "metadata": {},
   "outputs": [
    {
     "data": {
      "text/plain": [
       "'Hello, World!'"
      ]
     },
     "execution_count": 3,
     "metadata": {},
     "output_type": "execute_result"
    }
   ],
   "source": [
    "# you can directly print the output without using print()\n",
    "# this only uses for print one output each time\n",
    "\"Hello, World!\""
   ]
  },
  {
   "cell_type": "code",
   "execution_count": 31,
   "id": "9261b329",
   "metadata": {},
   "outputs": [
    {
     "ename": "SyntaxError",
     "evalue": "invalid syntax (2759521002.py, line 2)",
     "output_type": "error",
     "traceback": [
      "\u001b[1;36m  File \u001b[1;32m\"C:\\Users\\racha\\AppData\\Local\\Temp\\ipykernel_25704\\2759521002.py\"\u001b[1;36m, line \u001b[1;32m2\u001b[0m\n\u001b[1;33m    Hello, world!\u001b[0m\n\u001b[1;37m                ^\u001b[0m\n\u001b[1;31mSyntaxError\u001b[0m\u001b[1;31m:\u001b[0m invalid syntax\n"
     ]
    }
   ],
   "source": [
    "# what if you don't include the quotation marks?\n",
    "Hello, world! # to print strings you need quotation marks (we will talk about this later)"
   ]
  },
  {
   "cell_type": "code",
   "execution_count": 4,
   "id": "eb45e9c8",
   "metadata": {},
   "outputs": [],
   "source": [
    "# print the values (Comments can be used to explain Python code and make the code more readable.)\n",
    "\n",
    "x = \"Hello, world!\" # Comments can be used to prevent execution when testing code.\n"
   ]
  },
  {
   "cell_type": "code",
   "execution_count": 5,
   "id": "9f68e6f1",
   "metadata": {},
   "outputs": [
    {
     "name": "stdout",
     "output_type": "stream",
     "text": [
      "Hello, world!\n",
      "5\n"
     ]
    },
    {
     "ename": "TypeError",
     "evalue": "can only concatenate str (not \"int\") to str",
     "output_type": "error",
     "traceback": [
      "\u001b[1;31m---------------------------------------------------------------------------\u001b[0m",
      "\u001b[1;31mTypeError\u001b[0m                                 Traceback (most recent call last)",
      "Cell \u001b[1;32mIn[5], line 10\u001b[0m\n\u001b[0;32m      8\u001b[0m \u001b[38;5;28mprint\u001b[39m(x)\n\u001b[0;32m      9\u001b[0m \u001b[38;5;28mprint\u001b[39m(y)\n\u001b[1;32m---> 10\u001b[0m \u001b[38;5;28mprint\u001b[39m(\u001b[43mx\u001b[49m\u001b[38;5;241;43m+\u001b[39;49m\u001b[43my\u001b[49m)\n",
      "\u001b[1;31mTypeError\u001b[0m: can only concatenate str (not \"int\") to str"
     ]
    }
   ],
   "source": [
    "# Python variables are the objects storing data values\n",
    "# In the previous cell, x = \"Hello, world!\"\n",
    "# x is a variable\n",
    "# A variable is created the moment you first assign a value to it.\n",
    "\n",
    "y = 5\n",
    "\n",
    "print(x)\n",
    "print(y)\n",
    "print(x+y)"
   ]
  },
  {
   "cell_type": "markdown",
   "id": "9549d91f",
   "metadata": {},
   "source": [
    "## Rules for naming variables in Python\n",
    "\n",
    ">**Variable Names:**\n",
    "\n",
    "1. Try to use short name (e.g., x and y) or a more descriptive name (age, class, job_description). \n",
    "2. Must start with a letter\n",
    "3. Cannot start with a number\n",
    "4. No spaces between\n",
    "5. Can contain letters and numbers\n",
    "5. Case-sensitive (age, Age and AGE are three different variables)"
   ]
  },
  {
   "cell_type": "code",
   "execution_count": 6,
   "id": "8c0382ea",
   "metadata": {},
   "outputs": [
    {
     "name": "stdout",
     "output_type": "stream",
     "text": [
      "John John John John John John\n"
     ]
    }
   ],
   "source": [
    "# legal variable names\n",
    "\n",
    "myname = \"John\"\n",
    "myName = \"John\"\n",
    "my_name = \"John\"\n",
    "_myName = \"John\"\n",
    "MYNAME = \"John\"\n",
    "my1stName = \"John\" #...\n",
    "\n",
    "print (myname, myName, my_name, _myName, MYNAME, my1stName) # you can print multiple variables together"
   ]
  },
  {
   "cell_type": "code",
   "execution_count": 7,
   "id": "1b8fdbb1",
   "metadata": {},
   "outputs": [
    {
     "ename": "SyntaxError",
     "evalue": "invalid decimal literal (3893433957.py, line 4)",
     "output_type": "error",
     "traceback": [
      "\u001b[1;36m  Cell \u001b[1;32mIn[7], line 4\u001b[1;36m\u001b[0m\n\u001b[1;33m    1stName = \"John\"\u001b[0m\n\u001b[1;37m    ^\u001b[0m\n\u001b[1;31mSyntaxError\u001b[0m\u001b[1;31m:\u001b[0m invalid decimal literal\n"
     ]
    }
   ],
   "source": [
    "# illegal variable names\n",
    "# the following syntax will generate errors when you run them\n",
    "\n",
    "1stName = \"John\"\n",
    "my-name = \"John\"\n",
    "my name = \"John\"\n",
    "\n",
    "print(1stName, my-name, my name)"
   ]
  },
  {
   "cell_type": "code",
   "execution_count": 8,
   "id": "de269438",
   "metadata": {},
   "outputs": [
    {
     "name": "stdout",
     "output_type": "stream",
     "text": [
      "John\n"
     ]
    }
   ],
   "source": [
    "# you can assign many values to multiple variables\n",
    "\n",
    "firstName, lastName = \"John\", \"Smith\"\n",
    "print(firstName)"
   ]
  },
  {
   "cell_type": "code",
   "execution_count": 9,
   "id": "745adae3",
   "metadata": {},
   "outputs": [
    {
     "name": "stdout",
     "output_type": "stream",
     "text": [
      "Smith\n"
     ]
    }
   ],
   "source": [
    "# Exercise 1: Can you print the lastName?\n",
    "print(lastName)"
   ]
  },
  {
   "cell_type": "code",
   "execution_count": 10,
   "id": "ec6d2c90",
   "metadata": {},
   "outputs": [
    {
     "name": "stdout",
     "output_type": "stream",
     "text": [
      "Orange Apple Banana\n"
     ]
    }
   ],
   "source": [
    "# Exercise 2: write three variables and assign them \"Orange\", \"Apple\", and \"Banana\"\n",
    "o = \"Orange\"\n",
    "a = \"Apple\"\n",
    "b = \"Banana\"\n",
    "\n",
    "# print the three variables\n",
    "print(o,a,b)"
   ]
  },
  {
   "cell_type": "code",
   "execution_count": 11,
   "id": "cd985507",
   "metadata": {},
   "outputs": [
    {
     "name": "stdout",
     "output_type": "stream",
     "text": [
      "Banana\n"
     ]
    }
   ],
   "source": [
    "# you can pack the values into a list (we will talk about this later)\n",
    "# then unpack them with different variables\n",
    "\n",
    "fruits = [\"Orange\", \"Apple\", \"Banana\"] # this is a list of fruits\n",
    "a, b, c = fruits\n",
    "print(c)"
   ]
  },
  {
   "cell_type": "code",
   "execution_count": 13,
   "id": "5e50a953",
   "metadata": {},
   "outputs": [
    {
     "name": "stdout",
     "output_type": "stream",
     "text": [
      "JohnSmith\n",
      "John Smith\n"
     ]
    }
   ],
   "source": [
    "# You can also use the + operator to output multiple variables\n",
    "# from the above example\n",
    "# must be of same data type\n",
    "print(firstName + lastName)\n",
    "print(firstName + \" \" + lastName) # add a space in between"
   ]
  },
  {
   "cell_type": "markdown",
   "id": "e70a59ce",
   "metadata": {},
   "source": [
    "## Python Data Types\n",
    "\n",
    "| Type           | Python Name | Description           | Examples |\n",
    "|:----------------|:-------------|:-----------------------|:----------|\n",
    "| Integers       | `int`         | Whole numbers         | 1, 2     |\n",
    "| Floating point | `float`       | Numbers with decimals | 1.5      |\n",
    "| Strings        | `str`         | Texts. Words.         | \"Hello!\" 'world' \"1\"|\n",
    "| Lists          | `list`        | Ordered sequence of objects| [\"Hello!\", 1, 2, 1.5]|\n",
    "| Dictionaries   | `dict`        | A collection of key-value pairs, which map the key to their associated values.| {\"Hello!\": 1, \"world\": 2}|\n",
    "| Tuples         | `tup`         | Ordered unchangable sequence of objects. Used to store multiple items in a single variable.| (\"Hello!\", 1, 2, 1.5)|\n",
    "| Sets           | `set`         | Unordered collection of unique objects|{\"Hello!\",1,2,1.5}|\n",
    "| Booleans       | `bool`        | Logical value indicating `True` or `False`.| 0 == 1 is False|\n",
    "\n",
    "\n",
    "## Python Data Type - Part 1: Numbers\n",
    "\n",
    "There are two numeric types in Python:\n",
    "\n",
    "- `int`\n",
    "- `float`"
   ]
  },
  {
   "cell_type": "code",
   "execution_count": 14,
   "id": "62e92557",
   "metadata": {},
   "outputs": [],
   "source": [
    "# integer\n",
    "d = 1\n",
    "\n",
    "# float\n",
    "f = 1.5\n",
    "g = -87.7e100 #Scientific format "
   ]
  },
  {
   "cell_type": "code",
   "execution_count": 15,
   "id": "94b9ae06",
   "metadata": {},
   "outputs": [
    {
     "data": {
      "text/plain": [
       "int"
      ]
     },
     "execution_count": 15,
     "metadata": {},
     "output_type": "execute_result"
    }
   ],
   "source": [
    "type(d)"
   ]
  },
  {
   "cell_type": "markdown",
   "id": "22d15cb9",
   "metadata": {},
   "source": [
    "To check the data type, we can use type()"
   ]
  },
  {
   "cell_type": "code",
   "execution_count": 16,
   "id": "dea54cac",
   "metadata": {},
   "outputs": [
    {
     "name": "stdout",
     "output_type": "stream",
     "text": [
      "<class 'int'>\n",
      "<class 'float'>\n",
      "<class 'float'>\n"
     ]
    }
   ],
   "source": [
    "print(type(d))\n",
    "print(type(f))\n",
    "print(type(g))"
   ]
  },
  {
   "cell_type": "markdown",
   "id": "7a9d263f",
   "metadata": {},
   "source": [
    "### Type Conversion\n",
    "\n",
    "You can convert from one type to another with the int(), float()"
   ]
  },
  {
   "cell_type": "code",
   "execution_count": 17,
   "id": "faaf6278",
   "metadata": {},
   "outputs": [
    {
     "name": "stdout",
     "output_type": "stream",
     "text": [
      "<class 'float'>\n"
     ]
    }
   ],
   "source": [
    "# convert from int to float:\n",
    "cd = float(d)\n",
    "\n",
    "# check the data type\n",
    "print(type(cd))"
   ]
  },
  {
   "cell_type": "code",
   "execution_count": 18,
   "id": "4d4b89a6",
   "metadata": {},
   "outputs": [
    {
     "name": "stdout",
     "output_type": "stream",
     "text": [
      "<class 'int'>\n"
     ]
    }
   ],
   "source": [
    "# Exercise 3: convert variable f from float to int:\n",
    "fi = int(f)\n",
    "\n",
    "# check the data type\n",
    "print(type(fi))"
   ]
  },
  {
   "cell_type": "markdown",
   "id": "3077729b",
   "metadata": {},
   "source": [
    "### Basic Arithmetic"
   ]
  },
  {
   "cell_type": "code",
   "execution_count": 19,
   "id": "518e9eec",
   "metadata": {},
   "outputs": [
    {
     "data": {
      "text/plain": [
       "3"
      ]
     },
     "execution_count": 19,
     "metadata": {},
     "output_type": "execute_result"
    }
   ],
   "source": [
    "# Addition\n",
    "2+1"
   ]
  },
  {
   "cell_type": "code",
   "execution_count": 20,
   "id": "45c331ca",
   "metadata": {},
   "outputs": [
    {
     "data": {
      "text/plain": [
       "1"
      ]
     },
     "execution_count": 20,
     "metadata": {},
     "output_type": "execute_result"
    }
   ],
   "source": [
    "# Subtraction\n",
    "2-1"
   ]
  },
  {
   "cell_type": "code",
   "execution_count": 21,
   "id": "31422fa1",
   "metadata": {},
   "outputs": [
    {
     "data": {
      "text/plain": [
       "4"
      ]
     },
     "execution_count": 21,
     "metadata": {},
     "output_type": "execute_result"
    }
   ],
   "source": [
    "# Multiplication\n",
    "2*2"
   ]
  },
  {
   "cell_type": "code",
   "execution_count": 22,
   "id": "f3da595a",
   "metadata": {},
   "outputs": [
    {
     "data": {
      "text/plain": [
       "1.5"
      ]
     },
     "execution_count": 22,
     "metadata": {},
     "output_type": "execute_result"
    }
   ],
   "source": [
    "# Division\n",
    "3/2"
   ]
  },
  {
   "cell_type": "code",
   "execution_count": 23,
   "id": "083e536c",
   "metadata": {},
   "outputs": [
    {
     "data": {
      "text/plain": [
       "8"
      ]
     },
     "execution_count": 23,
     "metadata": {},
     "output_type": "execute_result"
    }
   ],
   "source": [
    "# Powers\n",
    "2**3"
   ]
  },
  {
   "cell_type": "code",
   "execution_count": 24,
   "id": "15ef333a",
   "metadata": {},
   "outputs": [
    {
     "data": {
      "text/plain": [
       "2.0"
      ]
     },
     "execution_count": 24,
     "metadata": {},
     "output_type": "execute_result"
    }
   ],
   "source": [
    "# Can also do roots this way\n",
    "4**0.5"
   ]
  },
  {
   "cell_type": "code",
   "execution_count": 25,
   "id": "f1253ecc",
   "metadata": {},
   "outputs": [
    {
     "data": {
      "text/plain": [
       "105"
      ]
     },
     "execution_count": 25,
     "metadata": {},
     "output_type": "execute_result"
    }
   ],
   "source": [
    "# Order of Operations followed in Python\n",
    "2 + 10 * 10 + 3"
   ]
  },
  {
   "cell_type": "code",
   "execution_count": 26,
   "id": "9c080730",
   "metadata": {},
   "outputs": [
    {
     "data": {
      "text/plain": [
       "156"
      ]
     },
     "execution_count": 26,
     "metadata": {},
     "output_type": "execute_result"
    }
   ],
   "source": [
    "# Can use parentheses to specify orders\n",
    "(2+10) * (10+3)"
   ]
  },
  {
   "cell_type": "markdown",
   "id": "1a5793f7",
   "metadata": {},
   "source": [
    "### Using variables to run the arithmetic"
   ]
  },
  {
   "cell_type": "code",
   "execution_count": 27,
   "id": "8d411764",
   "metadata": {},
   "outputs": [
    {
     "data": {
      "text/plain": [
       "3.5"
      ]
     },
     "execution_count": 27,
     "metadata": {},
     "output_type": "execute_result"
    }
   ],
   "source": [
    "# Let's use the above variables d = 1 and f = 1.5\n",
    "\n",
    "d = 1\n",
    "f = 1.5 # this is a duplicate step, just for the ease to read\n",
    "\n",
    "d+d+f "
   ]
  },
  {
   "cell_type": "code",
   "execution_count": 28,
   "id": "75c25a88",
   "metadata": {},
   "outputs": [
    {
     "data": {
      "text/plain": [
       "-4.5"
      ]
     },
     "execution_count": 28,
     "metadata": {},
     "output_type": "execute_result"
    }
   ],
   "source": [
    "# we can reassign the values to a variable\n",
    "\n",
    "d = -3\n",
    "\n",
    "d+d+f"
   ]
  },
  {
   "cell_type": "markdown",
   "id": "a8974a4f",
   "metadata": {},
   "source": [
    "## Python Data Type - Part 1: Strings\n",
    "\n",
    "Strings in python are surrounded by either single quotation marks, or double quotation marks. \n",
    "\n",
    "Like the above examples, \"Hello, world!\" is a string."
   ]
  },
  {
   "cell_type": "code",
   "execution_count": 29,
   "id": "5c508bdc",
   "metadata": {},
   "outputs": [
    {
     "name": "stdout",
     "output_type": "stream",
     "text": [
      "Smith\n",
      "John\n",
      "Orange Orange Apple\n"
     ]
    }
   ],
   "source": [
    "# Exercise 4: Can you print all the string variables from the above examples?\n",
    "print(lastName)\n",
    "print(firstName)\n",
    "print(o,a,b)\n"
   ]
  },
  {
   "cell_type": "code",
   "execution_count": 30,
   "id": "b7176925",
   "metadata": {},
   "outputs": [
    {
     "name": "stdout",
     "output_type": "stream",
     "text": [
      "I can speak English. I can speak French.\n"
     ]
    }
   ],
   "source": [
    "# single quotation vs. double quotation\n",
    "\n",
    "sentence1 = \"I can speak English.\"\n",
    "sentence2 = 'I can speak French.'\n",
    "\n",
    "print(sentence1, sentence2)"
   ]
  },
  {
   "cell_type": "code",
   "execution_count": 31,
   "id": "edc4ddca",
   "metadata": {},
   "outputs": [
    {
     "ename": "SyntaxError",
     "evalue": "unterminated string literal (detected at line 2) (3197765748.py, line 2)",
     "output_type": "error",
     "traceback": [
      "\u001b[1;36m  Cell \u001b[1;32mIn[31], line 2\u001b[1;36m\u001b[0m\n\u001b[1;33m    sentence3 = 'I'm an American.'\u001b[0m\n\u001b[1;37m                                 ^\u001b[0m\n\u001b[1;31mSyntaxError\u001b[0m\u001b[1;31m:\u001b[0m unterminated string literal (detected at line 2)\n"
     ]
    }
   ],
   "source": [
    "# Be careful with quotes!\n",
    "sentence3 = 'I'm an American.'"
   ]
  },
  {
   "cell_type": "code",
   "execution_count": 32,
   "id": "bde5226e",
   "metadata": {},
   "outputs": [
    {
     "name": "stdout",
     "output_type": "stream",
     "text": [
      "I'm an American.\n"
     ]
    }
   ],
   "source": [
    "# In this case, you need double quoatation \n",
    "sentence3 = \"I'm an American.\"\n",
    "\n",
    "print(sentence3)"
   ]
  },
  {
   "cell_type": "markdown",
   "id": "4a23c282",
   "metadata": {},
   "source": [
    "Strings can record text information and it is a *sequence*, which allows Python to keep track of every element in the string as a sequence. \n",
    "\n",
    "For example, Python understands the string \"hello\" to be a sequence of letters in a specific order. This means we will be able to use indexing to grab particular letters (like the first letter (h), or the last letter (o)).\n",
    "\n",
    "- **Character:**\n",
    " h e l l o\n",
    "- **Index:**\n",
    " 0 1 2 3 4\n",
    "- **Reverse Index:** \n",
    " 0 -4 -3 -2 -1\n",
    " \n",
    " (In some of cases, you don't know how long the string is and want to return the last item.)\n",
    " \n",
    "<b><span style=\"color:red\">Python starts counting at 0.</span></b>"
   ]
  },
  {
   "cell_type": "markdown",
   "id": "6a56d02a",
   "metadata": {},
   "source": [
    "### Basic syntax for strings\n",
    "\n",
    "Check the length of a string"
   ]
  },
  {
   "cell_type": "code",
   "execution_count": 33,
   "id": "8ca1385d",
   "metadata": {},
   "outputs": [
    {
     "name": "stdout",
     "output_type": "stream",
     "text": [
      "5\n",
      "5\n",
      "6\n",
      "12\n"
     ]
    }
   ],
   "source": [
    "# we can use len () to check the length of a string\n",
    "# len() counts all of the characters in the string, including spaces and punctuation.\n",
    "\n",
    "print(len(\"Hello\"))\n",
    "print(len(\"world\"))\n",
    "print(len(\"Hello!\"))\n",
    "print(len(\"Hello world!\"))"
   ]
  },
  {
   "cell_type": "markdown",
   "id": "f7aa6428",
   "metadata": {},
   "source": [
    "Strings are a sequence, which means Python can use indexes to call parts of the sequence. \n",
    "\n",
    "In Python, we use brackets <code>[]</code> after an object to call its index. "
   ]
  },
  {
   "cell_type": "code",
   "execution_count": 34,
   "id": "499dac3b",
   "metadata": {},
   "outputs": [
    {
     "name": "stdout",
     "output_type": "stream",
     "text": [
      "Hello, world!\n"
     ]
    }
   ],
   "source": [
    "# assign a string\n",
    "\n",
    "s = \"Hello, world!\"\n",
    "print(s)"
   ]
  },
  {
   "cell_type": "code",
   "execution_count": 35,
   "id": "b247ae1d",
   "metadata": {},
   "outputs": [
    {
     "data": {
      "text/plain": [
       "'H'"
      ]
     },
     "execution_count": 35,
     "metadata": {},
     "output_type": "execute_result"
    }
   ],
   "source": [
    "# Show the first element/character (in this case a letter)\n",
    "\n",
    "s[0]"
   ]
  },
  {
   "cell_type": "code",
   "execution_count": 36,
   "id": "fcc21b0b",
   "metadata": {},
   "outputs": [
    {
     "data": {
      "text/plain": [
       "'!'"
      ]
     },
     "execution_count": 36,
     "metadata": {},
     "output_type": "execute_result"
    }
   ],
   "source": [
    "# Show the last element\n",
    "\n",
    "s[-1]"
   ]
  },
  {
   "cell_type": "code",
   "execution_count": 38,
   "id": "83ba3a49",
   "metadata": {},
   "outputs": [
    {
     "data": {
      "text/plain": [
       "'l'"
      ]
     },
     "execution_count": 38,
     "metadata": {},
     "output_type": "execute_result"
    }
   ],
   "source": [
    "# Exercise 5: print the 4th element of s (notice: indexing starts at 0 for Python)\n",
    "s[3]\n"
   ]
  },
  {
   "cell_type": "markdown",
   "id": "1e8fd034",
   "metadata": {},
   "source": [
    "### Slicing a string\n",
    "\n",
    "**Slicing** allows you to grab a subsection of a string. The syntax is:\n",
    "\n",
    ">[start : stop : step]\n",
    "\n",
    "- *start*: is a numberical index for the slice start\n",
    "- *stop*: is the index will go up to (but not include)\n",
    "- *step*: is the size of the \"jump\" you take\n",
    "\n",
    "We can use a : to perform slicing which grabs everything up to a designated point. For example:"
   ]
  },
  {
   "cell_type": "code",
   "execution_count": 39,
   "id": "68119f02",
   "metadata": {},
   "outputs": [
    {
     "data": {
      "text/plain": [
       "'ello, world!'"
      ]
     },
     "execution_count": 39,
     "metadata": {},
     "output_type": "execute_result"
    }
   ],
   "source": [
    "# start\n",
    "# Grab everything past the first term all the way to the length of s which is len(s)\n",
    "\n",
    "s[1:]"
   ]
  },
  {
   "cell_type": "code",
   "execution_count": 40,
   "id": "412207ef",
   "metadata": {},
   "outputs": [
    {
     "data": {
      "text/plain": [
       "'Hel'"
      ]
     },
     "execution_count": 40,
     "metadata": {},
     "output_type": "execute_result"
    }
   ],
   "source": [
    "# stop\n",
    "# Grab everything UP TO the 3rd index (\"up to, but not including\")\n",
    "\n",
    "s[:3] # does not include the 4th element (index: 3)"
   ]
  },
  {
   "cell_type": "code",
   "execution_count": 41,
   "id": "47ab339f",
   "metadata": {},
   "outputs": [
    {
     "data": {
      "text/plain": [
       "'ello,'"
      ]
     },
     "execution_count": 41,
     "metadata": {},
     "output_type": "execute_result"
    }
   ],
   "source": [
    "# start : stop\n",
    "# Grab characters from index 1 to 6 (not include)\n",
    "\n",
    "s[1:6]"
   ]
  },
  {
   "cell_type": "code",
   "execution_count": 42,
   "id": "6a9f29b9",
   "metadata": {},
   "outputs": [
    {
     "data": {
      "text/plain": [
       "'Hello, world'"
      ]
     },
     "execution_count": 42,
     "metadata": {},
     "output_type": "execute_result"
    }
   ],
   "source": [
    "# stop\n",
    "# Grab everything but the last letter\n",
    "\n",
    "s[:-1]"
   ]
  },
  {
   "cell_type": "code",
   "execution_count": 43,
   "id": "67b670f4",
   "metadata": {},
   "outputs": [
    {
     "name": "stdout",
     "output_type": "stream",
     "text": [
      "Hello, world!\n"
     ]
    }
   ],
   "source": [
    "# Everything\n",
    "s[:]\n",
    "s\n",
    "print(s)"
   ]
  },
  {
   "cell_type": "markdown",
   "id": "68ec07d4",
   "metadata": {},
   "source": [
    "We can also use index and slice notation to grab elements of a sequence by a specified step size (the default is 1). For instance we can use two colons in a row and then a number specifying the frequency to grab elements. For example:"
   ]
  },
  {
   "cell_type": "code",
   "execution_count": 44,
   "id": "00c1159f",
   "metadata": {},
   "outputs": [
    {
     "data": {
      "text/plain": [
       "'Hello, world!'"
      ]
     },
     "execution_count": 44,
     "metadata": {},
     "output_type": "execute_result"
    }
   ],
   "source": [
    "# step\n",
    "# Grab everything, counts the elements 1 by 1\n",
    "\n",
    "s[::1]"
   ]
  },
  {
   "cell_type": "code",
   "execution_count": 49,
   "id": "1bbfd48e",
   "metadata": {},
   "outputs": [
    {
     "data": {
      "text/plain": [
       "'Hlo ol!'"
      ]
     },
     "execution_count": 49,
     "metadata": {},
     "output_type": "execute_result"
    }
   ],
   "source": [
    "# step\n",
    "# Grab everything, counts the elements from the 1st one then skip the next one\n",
    "\n",
    "s[::2]"
   ]
  },
  {
   "cell_type": "code",
   "execution_count": 47,
   "id": "1912748c",
   "metadata": {},
   "outputs": [
    {
     "data": {
      "text/plain": [
       "'!dlrow ,olleH'"
      ]
     },
     "execution_count": 47,
     "metadata": {},
     "output_type": "execute_result"
    }
   ],
   "source": [
    "# step\n",
    "# counts a string backwards\n",
    "\n",
    "s[::-1]"
   ]
  },
  {
   "cell_type": "code",
   "execution_count": 50,
   "id": "18a5e304",
   "metadata": {},
   "outputs": [
    {
     "data": {
      "text/plain": [
       "'racter'"
      ]
     },
     "execution_count": 50,
     "metadata": {},
     "output_type": "execute_result"
    }
   ],
   "source": [
    "# Exercise 6: Grab the characters of mystring from character \"r\" to the end:\n",
    "mystring = \"character\"\n",
    "mystring[3:]"
   ]
  },
  {
   "cell_type": "code",
   "execution_count": 53,
   "id": "36ebe3e1",
   "metadata": {},
   "outputs": [
    {
     "data": {
      "text/plain": [
       "'racte'"
      ]
     },
     "execution_count": 53,
     "metadata": {},
     "output_type": "execute_result"
    }
   ],
   "source": [
    "# Exercise 7: Grab the characters of mystring from index 3 to 8\n",
    "\n",
    "mystring[3:8]\n",
    "# mystring[4:5]\n",
    "# mystring[4:9]"
   ]
  },
  {
   "cell_type": "code",
   "execution_count": 54,
   "id": "0c6f665a",
   "metadata": {},
   "outputs": [
    {
     "data": {
      "text/plain": [
       "'NO'"
      ]
     },
     "execution_count": 54,
     "metadata": {},
     "output_type": "execute_result"
    }
   ],
   "source": [
    "# Exercise 8: Does the character of index 8 include in the results of exercise 7? \n",
    "# (answer in comments)\n",
    "\"NO\""
   ]
  },
  {
   "cell_type": "markdown",
   "id": "b786c44c",
   "metadata": {},
   "source": [
    "### Modifying strings\n",
    "\n",
    "1. Unchangable/Immutability"
   ]
  },
  {
   "cell_type": "code",
   "execution_count": 55,
   "id": "46bfb21e",
   "metadata": {},
   "outputs": [],
   "source": [
    "name = \"John\""
   ]
  },
  {
   "cell_type": "code",
   "execution_count": 56,
   "id": "8a411158",
   "metadata": {},
   "outputs": [
    {
     "ename": "TypeError",
     "evalue": "'str' object does not support item assignment",
     "output_type": "error",
     "traceback": [
      "\u001b[1;31m---------------------------------------------------------------------------\u001b[0m",
      "\u001b[1;31mTypeError\u001b[0m                                 Traceback (most recent call last)",
      "Cell \u001b[1;32mIn[56], line 2\u001b[0m\n\u001b[0;32m      1\u001b[0m \u001b[38;5;66;03m# you cannot change the string by reassigning a value to it, for example:\u001b[39;00m\n\u001b[1;32m----> 2\u001b[0m \u001b[43mname\u001b[49m\u001b[43m[\u001b[49m\u001b[38;5;241;43m0\u001b[39;49m\u001b[43m]\u001b[49m \u001b[38;5;241m=\u001b[39m \u001b[38;5;124m\"\u001b[39m\u001b[38;5;124mp\u001b[39m\u001b[38;5;124m\"\u001b[39m\n",
      "\u001b[1;31mTypeError\u001b[0m: 'str' object does not support item assignment"
     ]
    }
   ],
   "source": [
    "# you cannot change the string by reassigning a value to it, for example:\n",
    "name[0] = \"p\""
   ]
  },
  {
   "cell_type": "code",
   "execution_count": 57,
   "id": "13be4ff3",
   "metadata": {},
   "outputs": [
    {
     "name": "stdout",
     "output_type": "stream",
     "text": [
      "pohn\n"
     ]
    }
   ],
   "source": [
    "# to change one element in strings\n",
    "# method 1: string concatenation - combine multiple strings together\n",
    "\n",
    "print(\"p\" + name[1:])"
   ]
  },
  {
   "cell_type": "code",
   "execution_count": 58,
   "id": "45f0ef94",
   "metadata": {},
   "outputs": [
    {
     "ename": "TypeError",
     "evalue": "can only concatenate str (not \"int\") to str",
     "output_type": "error",
     "traceback": [
      "\u001b[1;31m---------------------------------------------------------------------------\u001b[0m",
      "\u001b[1;31mTypeError\u001b[0m                                 Traceback (most recent call last)",
      "Cell \u001b[1;32mIn[58], line 3\u001b[0m\n\u001b[0;32m      1\u001b[0m \u001b[38;5;66;03m# cannot combine string and numbers\u001b[39;00m\n\u001b[1;32m----> 3\u001b[0m \u001b[38;5;28mprint\u001b[39m(\u001b[38;5;124;43m\"\u001b[39;49m\u001b[38;5;124;43mp\u001b[39;49m\u001b[38;5;124;43m\"\u001b[39;49m\u001b[43m \u001b[49m\u001b[38;5;241;43m+\u001b[39;49m\u001b[43m \u001b[49m\u001b[43mname\u001b[49m\u001b[43m[\u001b[49m\u001b[38;5;241;43m1\u001b[39;49m\u001b[43m:\u001b[49m\u001b[43m]\u001b[49m\u001b[43m \u001b[49m\u001b[38;5;241;43m+\u001b[39;49m\u001b[43m \u001b[49m\u001b[38;5;241;43m30\u001b[39;49m) \u001b[38;5;66;03m# to combine numbers, we can use format() (in later this lecture)\u001b[39;00m\n",
      "\u001b[1;31mTypeError\u001b[0m: can only concatenate str (not \"int\") to str"
     ]
    }
   ],
   "source": [
    "# cannot combine string and numbers\n",
    "\n",
    "print(\"p\" + name[1:] + 30) # to combine numbers, we can use format() (in later this lecture)"
   ]
  },
  {
   "cell_type": "code",
   "execution_count": 59,
   "id": "cb808cfa",
   "metadata": {},
   "outputs": [
    {
     "name": "stdout",
     "output_type": "stream",
     "text": [
      "Johnson\n"
     ]
    }
   ],
   "source": [
    "# Exercise 9: Can you print \"Johnson\" based on the variable \"name\"?\n",
    "print(name + \"son\")\n"
   ]
  },
  {
   "cell_type": "markdown",
   "id": "4c1e973a",
   "metadata": {},
   "source": [
    "2. Execute attributes/fuctions"
   ]
  },
  {
   "cell_type": "code",
   "execution_count": 60,
   "id": "aa7e9ff3",
   "metadata": {},
   "outputs": [
    {
     "data": {
      "text/plain": [
       "'HELLO, WORLD!'"
      ]
     },
     "execution_count": 60,
     "metadata": {},
     "output_type": "execute_result"
    }
   ],
   "source": [
    "# Anaconda Python default functions\n",
    "# to query/run a function\n",
    "\n",
    "s = \"Hello, world!\" # we have this before, and this is just for a reminder and ease to read\n",
    "\n",
    "s.upper() # upper() is one of the default functions, will change lower cases to upper"
   ]
  },
  {
   "cell_type": "code",
   "execution_count": 61,
   "id": "8471d553",
   "metadata": {},
   "outputs": [
    {
     "data": {
      "text/plain": [
       "'Hello, world!'"
      ]
     },
     "execution_count": 61,
     "metadata": {},
     "output_type": "execute_result"
    }
   ],
   "source": [
    "# be aware, running a function will not change the original variable\n",
    "# it is still the same when we run s\n",
    "s"
   ]
  },
  {
   "cell_type": "code",
   "execution_count": 62,
   "id": "0045562a",
   "metadata": {},
   "outputs": [
    {
     "data": {
      "text/plain": [
       "<function str.upper()>"
      ]
     },
     "execution_count": 62,
     "metadata": {},
     "output_type": "execute_result"
    }
   ],
   "source": [
    "# please remember to put () when you run/execute functions\n",
    "# if you forget to put ()\n",
    "# this is what you will get\n",
    "s.upper"
   ]
  },
  {
   "cell_type": "code",
   "execution_count": 63,
   "id": "20d2046e",
   "metadata": {},
   "outputs": [
    {
     "data": {
      "text/plain": [
       "'hello, world!'"
      ]
     },
     "execution_count": 63,
     "metadata": {},
     "output_type": "execute_result"
    }
   ],
   "source": [
    "# lower case\n",
    "s.lower()"
   ]
  },
  {
   "cell_type": "markdown",
   "id": "6ff56b55",
   "metadata": {},
   "source": [
    "### String Formatting\n",
    "\n",
    "This is often used in the print statement for formatting objects into strings. "
   ]
  },
  {
   "cell_type": "code",
   "execution_count": 64,
   "id": "88f72fe0",
   "metadata": {},
   "outputs": [
    {
     "name": "stdout",
     "output_type": "stream",
     "text": [
      "Hello, world! Today is a sunny day.\n"
     ]
    }
   ],
   "source": [
    "print(\"Hello, world! Today is a {} day.\".format(\"sunny\")) # string.format()"
   ]
  },
  {
   "cell_type": "code",
   "execution_count": 65,
   "id": "5da51993",
   "metadata": {},
   "outputs": [
    {
     "name": "stdout",
     "output_type": "stream",
     "text": [
      "Hello, world! Today is a sunny day. I love it!\n"
     ]
    }
   ],
   "source": [
    "print(\"Hello, world! Today is a {} day. I {} it!\".format(\"sunny\",\"love\")) # insert by order"
   ]
  },
  {
   "cell_type": "code",
   "execution_count": 66,
   "id": "a24c5411",
   "metadata": {},
   "outputs": [
    {
     "name": "stdout",
     "output_type": "stream",
     "text": [
      "Hello, world! Today is a sunny day. I love it!\n"
     ]
    }
   ],
   "source": [
    "print(\"Hello, world! Today is a {1} day. I {0} it!\".format(\"love\",\"sunny\"))"
   ]
  },
  {
   "cell_type": "code",
   "execution_count": 67,
   "id": "90c4b507",
   "metadata": {},
   "outputs": [
    {
     "name": "stdout",
     "output_type": "stream",
     "text": [
      "Hello, world! Today is a sunny day. I love it!\n"
     ]
    }
   ],
   "source": [
    "print(\"Hello, world! Today is a {word2} day. I {word1} it!\".format(word1=\"love\",word2=\"sunny\")) # assign variables"
   ]
  },
  {
   "cell_type": "code",
   "execution_count": 68,
   "id": "5d97933a",
   "metadata": {},
   "outputs": [
    {
     "name": "stdout",
     "output_type": "stream",
     "text": [
      "The result is 421.6666666666667.\n"
     ]
    }
   ],
   "source": [
    "# This is usually used when you want to insert some values\n",
    "result = 200/3*7-45\n",
    "\n",
    "print(\"The result is {}.\".format(result))"
   ]
  },
  {
   "cell_type": "code",
   "execution_count": 69,
   "id": "b890ff49",
   "metadata": {},
   "outputs": [
    {
     "name": "stdout",
     "output_type": "stream",
     "text": [
      "The result is 421.667.\n",
      "The result is 421.67.\n"
     ]
    }
   ],
   "source": [
    "# what if you only want 3 decimals?\n",
    "# you can use {value:width.precision f}\n",
    "\n",
    "print(\"The result is {r:1.3f}.\".format(r=result))\n",
    "print(\"The result is {0:1.2f}.\".format(result))# three places passed by \".\""
   ]
  },
  {
   "cell_type": "code",
   "execution_count": 70,
   "id": "857b594b",
   "metadata": {},
   "outputs": [
    {
     "name": "stdout",
     "output_type": "stream",
     "text": [
      "Hello, his name is John Smith.\n",
      "Hello, his name is John Smith.\n"
     ]
    }
   ],
   "source": [
    "# method 2 for python 3.6 and above\n",
    "\n",
    "name = \"John Smith\"\n",
    "\n",
    "print(\"Hello, his name is {}.\".format(name))\n",
    "print(f\"Hello, his name is {name}.\")"
   ]
  },
  {
   "cell_type": "code",
   "execution_count": 72,
   "id": "1779e99f",
   "metadata": {},
   "outputs": [
    {
     "name": "stdout",
     "output_type": "stream",
     "text": [
      "The result is:421.667\n"
     ]
    }
   ],
   "source": [
    "# use method 2\n",
    "\n",
    "print(f\"The result is:{result:{1}.{6}}\")"
   ]
  },
  {
   "cell_type": "markdown",
   "id": "862ad0e1",
   "metadata": {},
   "source": [
    "Note that with f-strings, *precision* refers to the total number of digits, not just those following the decimal. "
   ]
  },
  {
   "cell_type": "code",
   "execution_count": 74,
   "id": "660a658b",
   "metadata": {},
   "outputs": [
    {
     "name": "stdout",
     "output_type": "stream",
     "text": [
      "The result is:421.67\n"
     ]
    }
   ],
   "source": [
    "# Excersice 10: Can you change the above syntax and get the ouput of only 2 decimals?\n",
    "print(f\"The result is:{result:{1}.{5}}\")\n"
   ]
  },
  {
   "cell_type": "code",
   "execution_count": 75,
   "id": "350bd5a4",
   "metadata": {},
   "outputs": [
    {
     "name": "stdout",
     "output_type": "stream",
     "text": [
      "John Smith is 30 years old.\n"
     ]
    }
   ],
   "source": [
    "# add more variables\n",
    "age = 30\n",
    "print(f\"{name} is {age} years old.\")"
   ]
  },
  {
   "cell_type": "code",
   "execution_count": 72,
   "id": "75d7cdb2",
   "metadata": {},
   "outputs": [
    {
     "name": "stdout",
     "output_type": "stream",
     "text": [
      "Hello, his name is Jane Smith.\n"
     ]
    }
   ],
   "source": [
    "# method 3: use %s (Formatting with placeholders)\n",
    "# You can use %s to inject strings into the print statements. \n",
    "# % modulus\n",
    "\n",
    "print(\"Hello, his name is %s.\" % \"Jane Smith\")"
   ]
  },
  {
   "cell_type": "code",
   "execution_count": 76,
   "id": "f0518d2c",
   "metadata": {},
   "outputs": [
    {
     "name": "stdout",
     "output_type": "stream",
     "text": [
      "Jane Smith is 33 years old.\n",
      "John Smith is 30 years old.\n"
     ]
    }
   ],
   "source": [
    "# multiple values\n",
    "print(\"%s is %s years old.\" % (\"Jane Smith\", 33))\n",
    "\n",
    "# or pass by variable names\n",
    "\n",
    "print(\"%s is %s years old.\" % (name, age))"
   ]
  },
  {
   "cell_type": "code",
   "execution_count": 77,
   "id": "b19e3d96",
   "metadata": {},
   "outputs": [
    {
     "name": "stdout",
     "output_type": "stream",
     "text": [
      "The result is 421.667.\n"
     ]
    }
   ],
   "source": [
    "# you can also use % to print numberic results\n",
    "\n",
    "print(\"The result is %1.3f.\" % (result))"
   ]
  },
  {
   "cell_type": "code",
   "execution_count": 78,
   "id": "ae64b858",
   "metadata": {},
   "outputs": [
    {
     "name": "stdout",
     "output_type": "stream",
     "text": [
      "The result is 421.6666666666667.\n",
      "The result is 421.\n",
      "The result is 421.667.\n"
     ]
    }
   ],
   "source": [
    "# Note the differences\n",
    "\n",
    "print(\"The result is %s.\" % (result)) # %s converts whatever it sees into a string, including integers and floats.\n",
    "print(\"The result is %d.\" % (result)) # %d converts numbers to integers, without rounding. \n",
    "print(\"The result is %1.3f.\" % (result)) # %f converts by width.precision, with rounding"
   ]
  },
  {
   "cell_type": "code",
   "execution_count": 79,
   "id": "c8f2870c",
   "metadata": {},
   "outputs": [
    {
     "name": "stdout",
     "output_type": "stream",
     "text": [
      "Name: John Smith, Age: 30, Occupation: 'Doctor'\n",
      "Name: John Smith, Age: 30, Occupation: Doctor\n"
     ]
    }
   ],
   "source": [
    "# % is good for print multiple formats\n",
    "# %r deliver the string representation of the object, including quotation marks and any escape characters.\n",
    "\n",
    "print('Name: %s, Age: %d, Occupation: %r' %('John Smith',30.3333,'Doctor'))\n",
    "print('Name: %s, Age: %d, Occupation: %s' %('John Smith',30.3333,'Doctor'))"
   ]
  },
  {
   "cell_type": "markdown",
   "id": "3f68bc38",
   "metadata": {},
   "source": [
    "## Refereces:\n",
    "\n",
    "1. Udemy - The Complete Python Bootcamp From Zero to Hero in Python:https://www.udemy.com/course/complete-python-bootcamp/learn/lecture/9388534#overview\n",
    "2. W3schools - Python Tutorial: https://www.w3schools.com/python/default.asp\n",
    "3. Google Education - Python: https://developers.google.com/edu/python"
   ]
  },
  {
   "cell_type": "code",
   "execution_count": null,
   "id": "329eecfe",
   "metadata": {},
   "outputs": [],
   "source": []
  }
 ],
 "metadata": {
  "kernelspec": {
   "display_name": "Python 3 (ipykernel)",
   "language": "python",
   "name": "python3"
  },
  "language_info": {
   "codemirror_mode": {
    "name": "ipython",
    "version": 3
   },
   "file_extension": ".py",
   "mimetype": "text/x-python",
   "name": "python",
   "nbconvert_exporter": "python",
   "pygments_lexer": "ipython3",
   "version": "3.11.7"
  }
 },
 "nbformat": 4,
 "nbformat_minor": 5
}
